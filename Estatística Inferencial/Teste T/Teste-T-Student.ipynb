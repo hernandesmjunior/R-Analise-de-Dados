{
 "cells": [
  {
   "cell_type": "markdown",
   "id": "0157a493",
   "metadata": {},
   "source": [
    "# TESTE T DE STUDENT DE DUAS AMOSTRAS INDEPENDENTES\n",
    "\n",
    "Analisar a diferença de novas de homens e mulheres de um colégio."
   ]
  },
  {
   "cell_type": "markdown",
   "id": "1527e22f",
   "metadata": {},
   "source": [
    "# 0.0 Importações"
   ]
  },
  {
   "cell_type": "markdown",
   "id": "f0a87895",
   "metadata": {},
   "source": [
    "## 0.1 Bibliotecas"
   ]
  },
  {
   "cell_type": "code",
   "execution_count": 1,
   "id": "bf9a6e53",
   "metadata": {},
   "outputs": [
    {
     "name": "stderr",
     "output_type": "stream",
     "text": [
      "\n",
      "Attaching package: 'dplyr'\n",
      "\n",
      "\n",
      "The following objects are masked from 'package:stats':\n",
      "\n",
      "    filter, lag\n",
      "\n",
      "\n",
      "The following objects are masked from 'package:base':\n",
      "\n",
      "    intersect, setdiff, setequal, union\n",
      "\n",
      "\n",
      "Carregando pacotes exigidos: carData\n",
      "\n",
      "\n",
      "Attaching package: 'car'\n",
      "\n",
      "\n",
      "The following object is masked from 'package:dplyr':\n",
      "\n",
      "    recode\n",
      "\n",
      "\n",
      "*** Package RVAideMemoire v 0.9-80 ***\n",
      "\n"
     ]
    }
   ],
   "source": [
    "library(dplyr)\n",
    "library(car) # teste de homogeneidade (levene)\n",
    "library(RVAideMemoire) # teste de shapiro por grupo"
   ]
  },
  {
   "cell_type": "markdown",
   "id": "83810216",
   "metadata": {},
   "source": [
    "## 0.2 Dataset"
   ]
  },
  {
   "cell_type": "code",
   "execution_count": 2,
   "id": "f0df23d1",
   "metadata": {},
   "outputs": [],
   "source": [
    "enem2019_tratado <- read.csv(\"data/enem2019_tratado.csv\", sep=\",\")"
   ]
  },
  {
   "cell_type": "code",
   "execution_count": 3,
   "id": "26e86262",
   "metadata": {},
   "outputs": [
    {
     "data": {
      "text/html": [
       "<table class=\"dataframe\">\n",
       "<caption>A data.frame: 6 × 25</caption>\n",
       "<thead>\n",
       "\t<tr><th></th><th scope=col>NU_INSCRICAO</th><th scope=col>NO_MUNICIPIO_RESIDENCIA</th><th scope=col>NU_IDADE</th><th scope=col>TP_SEXO</th><th scope=col>TP_COR_RACA</th><th scope=col>TP_NACIONALIDADE</th><th scope=col>TP_ESCOLA</th><th scope=col>TP_ENSINO</th><th scope=col>CO_ESCOLA</th><th scope=col>TP_PRESENCA_CN</th><th scope=col>⋯</th><th scope=col>NOTA_LC</th><th scope=col>NOTA_MT</th><th scope=col>TP_LINGUA</th><th scope=col>TP_STATUS_REDACAO</th><th scope=col>NOTA_COMP1</th><th scope=col>NOTA_COMP2</th><th scope=col>NOTA_COMP3</th><th scope=col>NOTA_COMP4</th><th scope=col>NOTA_COMP5</th><th scope=col>NOTA_REDACAO</th></tr>\n",
       "\t<tr><th></th><th scope=col>&lt;dbl&gt;</th><th scope=col>&lt;chr&gt;</th><th scope=col>&lt;int&gt;</th><th scope=col>&lt;chr&gt;</th><th scope=col>&lt;int&gt;</th><th scope=col>&lt;int&gt;</th><th scope=col>&lt;int&gt;</th><th scope=col>&lt;int&gt;</th><th scope=col>&lt;int&gt;</th><th scope=col>&lt;int&gt;</th><th scope=col>⋯</th><th scope=col>&lt;dbl&gt;</th><th scope=col>&lt;dbl&gt;</th><th scope=col>&lt;int&gt;</th><th scope=col>&lt;int&gt;</th><th scope=col>&lt;int&gt;</th><th scope=col>&lt;int&gt;</th><th scope=col>&lt;int&gt;</th><th scope=col>&lt;int&gt;</th><th scope=col>&lt;int&gt;</th><th scope=col>&lt;int&gt;</th></tr>\n",
       "</thead>\n",
       "<tbody>\n",
       "\t<tr><th scope=row>1</th><td>190001017053</td><td>Santa Isabel         </td><td>22</td><td>M</td><td>3</td><td>1</td><td>1</td><td> 1</td><td>      NA</td><td>1</td><td>⋯</td><td>592.9</td><td>600.2</td><td>0</td><td>1</td><td>160</td><td>200</td><td>180</td><td>200</td><td>200</td><td>940</td></tr>\n",
       "\t<tr><th scope=row>2</th><td>190001019850</td><td>São Paulo            </td><td>17</td><td>F</td><td>3</td><td>1</td><td>3</td><td> 1</td><td>15567761</td><td>1</td><td>⋯</td><td>634.3</td><td>731.8</td><td>0</td><td>1</td><td>160</td><td>120</td><td>200</td><td>200</td><td>200</td><td>880</td></tr>\n",
       "\t<tr><th scope=row>3</th><td>190001024874</td><td>São Bernardo do Campo</td><td>19</td><td>M</td><td>3</td><td>1</td><td>2</td><td> 1</td><td>35904958</td><td>1</td><td>⋯</td><td>509.6</td><td>393.2</td><td>1</td><td>1</td><td> 80</td><td>160</td><td>120</td><td>100</td><td>100</td><td>560</td></tr>\n",
       "\t<tr><th scope=row>4</th><td>190001031050</td><td>Embu-Guaçu           </td><td>17</td><td>F</td><td>3</td><td>1</td><td>2</td><td> 1</td><td>      NA</td><td>1</td><td>⋯</td><td>487.2</td><td>419.2</td><td>0</td><td>1</td><td>120</td><td>120</td><td>120</td><td>120</td><td> 80</td><td>560</td></tr>\n",
       "\t<tr><th scope=row>5</th><td>190001045429</td><td>Guarulhos            </td><td>23</td><td>F</td><td>1</td><td>1</td><td>1</td><td>NA</td><td>      NA</td><td>1</td><td>⋯</td><td>629.3</td><td>796.1</td><td>0</td><td>1</td><td>160</td><td>200</td><td>180</td><td>180</td><td>160</td><td>880</td></tr>\n",
       "\t<tr><th scope=row>6</th><td>190001050482</td><td>São José do Rio Preto</td><td>18</td><td>F</td><td>1</td><td>1</td><td>2</td><td> 1</td><td>35028927</td><td>1</td><td>⋯</td><td>555.9</td><td>612.8</td><td>1</td><td>1</td><td>120</td><td>160</td><td>120</td><td> 80</td><td>100</td><td>580</td></tr>\n",
       "</tbody>\n",
       "</table>\n"
      ],
      "text/latex": [
       "A data.frame: 6 × 25\n",
       "\\begin{tabular}{r|lllllllllllllllllllll}\n",
       "  & NU\\_INSCRICAO & NO\\_MUNICIPIO\\_RESIDENCIA & NU\\_IDADE & TP\\_SEXO & TP\\_COR\\_RACA & TP\\_NACIONALIDADE & TP\\_ESCOLA & TP\\_ENSINO & CO\\_ESCOLA & TP\\_PRESENCA\\_CN & ⋯ & NOTA\\_LC & NOTA\\_MT & TP\\_LINGUA & TP\\_STATUS\\_REDACAO & NOTA\\_COMP1 & NOTA\\_COMP2 & NOTA\\_COMP3 & NOTA\\_COMP4 & NOTA\\_COMP5 & NOTA\\_REDACAO\\\\\n",
       "  & <dbl> & <chr> & <int> & <chr> & <int> & <int> & <int> & <int> & <int> & <int> & ⋯ & <dbl> & <dbl> & <int> & <int> & <int> & <int> & <int> & <int> & <int> & <int>\\\\\n",
       "\\hline\n",
       "\t1 & 190001017053 & Santa Isabel          & 22 & M & 3 & 1 & 1 &  1 &       NA & 1 & ⋯ & 592.9 & 600.2 & 0 & 1 & 160 & 200 & 180 & 200 & 200 & 940\\\\\n",
       "\t2 & 190001019850 & São Paulo             & 17 & F & 3 & 1 & 3 &  1 & 15567761 & 1 & ⋯ & 634.3 & 731.8 & 0 & 1 & 160 & 120 & 200 & 200 & 200 & 880\\\\\n",
       "\t3 & 190001024874 & São Bernardo do Campo & 19 & M & 3 & 1 & 2 &  1 & 35904958 & 1 & ⋯ & 509.6 & 393.2 & 1 & 1 &  80 & 160 & 120 & 100 & 100 & 560\\\\\n",
       "\t4 & 190001031050 & Embu-Guaçu            & 17 & F & 3 & 1 & 2 &  1 &       NA & 1 & ⋯ & 487.2 & 419.2 & 0 & 1 & 120 & 120 & 120 & 120 &  80 & 560\\\\\n",
       "\t5 & 190001045429 & Guarulhos             & 23 & F & 1 & 1 & 1 & NA &       NA & 1 & ⋯ & 629.3 & 796.1 & 0 & 1 & 160 & 200 & 180 & 180 & 160 & 880\\\\\n",
       "\t6 & 190001050482 & São José do Rio Preto & 18 & F & 1 & 1 & 2 &  1 & 35028927 & 1 & ⋯ & 555.9 & 612.8 & 1 & 1 & 120 & 160 & 120 &  80 & 100 & 580\\\\\n",
       "\\end{tabular}\n"
      ],
      "text/markdown": [
       "\n",
       "A data.frame: 6 × 25\n",
       "\n",
       "| <!--/--> | NU_INSCRICAO &lt;dbl&gt; | NO_MUNICIPIO_RESIDENCIA &lt;chr&gt; | NU_IDADE &lt;int&gt; | TP_SEXO &lt;chr&gt; | TP_COR_RACA &lt;int&gt; | TP_NACIONALIDADE &lt;int&gt; | TP_ESCOLA &lt;int&gt; | TP_ENSINO &lt;int&gt; | CO_ESCOLA &lt;int&gt; | TP_PRESENCA_CN &lt;int&gt; | ⋯ ⋯ | NOTA_LC &lt;dbl&gt; | NOTA_MT &lt;dbl&gt; | TP_LINGUA &lt;int&gt; | TP_STATUS_REDACAO &lt;int&gt; | NOTA_COMP1 &lt;int&gt; | NOTA_COMP2 &lt;int&gt; | NOTA_COMP3 &lt;int&gt; | NOTA_COMP4 &lt;int&gt; | NOTA_COMP5 &lt;int&gt; | NOTA_REDACAO &lt;int&gt; |\n",
       "|---|---|---|---|---|---|---|---|---|---|---|---|---|---|---|---|---|---|---|---|---|---|\n",
       "| 1 | 190001017053 | Santa Isabel          | 22 | M | 3 | 1 | 1 |  1 |       NA | 1 | ⋯ | 592.9 | 600.2 | 0 | 1 | 160 | 200 | 180 | 200 | 200 | 940 |\n",
       "| 2 | 190001019850 | São Paulo             | 17 | F | 3 | 1 | 3 |  1 | 15567761 | 1 | ⋯ | 634.3 | 731.8 | 0 | 1 | 160 | 120 | 200 | 200 | 200 | 880 |\n",
       "| 3 | 190001024874 | São Bernardo do Campo | 19 | M | 3 | 1 | 2 |  1 | 35904958 | 1 | ⋯ | 509.6 | 393.2 | 1 | 1 |  80 | 160 | 120 | 100 | 100 | 560 |\n",
       "| 4 | 190001031050 | Embu-Guaçu            | 17 | F | 3 | 1 | 2 |  1 |       NA | 1 | ⋯ | 487.2 | 419.2 | 0 | 1 | 120 | 120 | 120 | 120 |  80 | 560 |\n",
       "| 5 | 190001045429 | Guarulhos             | 23 | F | 1 | 1 | 1 | NA |       NA | 1 | ⋯ | 629.3 | 796.1 | 0 | 1 | 160 | 200 | 180 | 180 | 160 | 880 |\n",
       "| 6 | 190001050482 | São José do Rio Preto | 18 | F | 1 | 1 | 2 |  1 | 35028927 | 1 | ⋯ | 555.9 | 612.8 | 1 | 1 | 120 | 160 | 120 |  80 | 100 | 580 |\n",
       "\n"
      ],
      "text/plain": [
       "  NU_INSCRICAO NO_MUNICIPIO_RESIDENCIA NU_IDADE TP_SEXO TP_COR_RACA\n",
       "1 190001017053 Santa Isabel            22       M       3          \n",
       "2 190001019850 São Paulo               17       F       3          \n",
       "3 190001024874 São Bernardo do Campo   19       M       3          \n",
       "4 190001031050 Embu-Guaçu              17       F       3          \n",
       "5 190001045429 Guarulhos               23       F       1          \n",
       "6 190001050482 São José do Rio Preto   18       F       1          \n",
       "  TP_NACIONALIDADE TP_ESCOLA TP_ENSINO CO_ESCOLA TP_PRESENCA_CN <U+22EF>       \n",
       "1 1                1          1              NA  1              <U+22EF>\n",
       "2 1                3          1        15567761  1              <U+22EF>\n",
       "3 1                2          1        35904958  1              <U+22EF>\n",
       "4 1                2          1              NA  1              <U+22EF>\n",
       "5 1                1         NA              NA  1              <U+22EF>\n",
       "6 1                2          1        35028927  1              <U+22EF>\n",
       "  NOTA_LC NOTA_MT TP_LINGUA TP_STATUS_REDACAO NOTA_COMP1 NOTA_COMP2 NOTA_COMP3\n",
       "1 592.9   600.2   0         1                 160        200        180       \n",
       "2 634.3   731.8   0         1                 160        120        200       \n",
       "3 509.6   393.2   1         1                  80        160        120       \n",
       "4 487.2   419.2   0         1                 120        120        120       \n",
       "5 629.3   796.1   0         1                 160        200        180       \n",
       "6 555.9   612.8   1         1                 120        160        120       \n",
       "  NOTA_COMP4 NOTA_COMP5 NOTA_REDACAO\n",
       "1 200        200        940         \n",
       "2 200        200        880         \n",
       "3 100        100        560         \n",
       "4 120         80        560         \n",
       "5 180        160        880         \n",
       "6  80        100        580         "
      ]
     },
     "metadata": {},
     "output_type": "display_data"
    }
   ],
   "source": [
    "head(enem2019_tratado)"
   ]
  },
  {
   "cell_type": "code",
   "execution_count": 4,
   "id": "8c34b0d5",
   "metadata": {},
   "outputs": [],
   "source": [
    "# selecionando o colégio a ser analisado\n",
    "\n",
    "colegioy <- enem2019_tratado %>% filter(CO_ESCOLA==\"35151506\")"
   ]
  },
  {
   "cell_type": "code",
   "execution_count": 5,
   "id": "05868f8b",
   "metadata": {},
   "outputs": [
    {
     "data": {
      "text/html": [
       "<table class=\"dataframe\">\n",
       "<caption>A data.frame: 6 × 25</caption>\n",
       "<thead>\n",
       "\t<tr><th></th><th scope=col>NU_INSCRICAO</th><th scope=col>NO_MUNICIPIO_RESIDENCIA</th><th scope=col>NU_IDADE</th><th scope=col>TP_SEXO</th><th scope=col>TP_COR_RACA</th><th scope=col>TP_NACIONALIDADE</th><th scope=col>TP_ESCOLA</th><th scope=col>TP_ENSINO</th><th scope=col>CO_ESCOLA</th><th scope=col>TP_PRESENCA_CN</th><th scope=col>⋯</th><th scope=col>NOTA_LC</th><th scope=col>NOTA_MT</th><th scope=col>TP_LINGUA</th><th scope=col>TP_STATUS_REDACAO</th><th scope=col>NOTA_COMP1</th><th scope=col>NOTA_COMP2</th><th scope=col>NOTA_COMP3</th><th scope=col>NOTA_COMP4</th><th scope=col>NOTA_COMP5</th><th scope=col>NOTA_REDACAO</th></tr>\n",
       "\t<tr><th></th><th scope=col>&lt;dbl&gt;</th><th scope=col>&lt;chr&gt;</th><th scope=col>&lt;int&gt;</th><th scope=col>&lt;chr&gt;</th><th scope=col>&lt;int&gt;</th><th scope=col>&lt;int&gt;</th><th scope=col>&lt;int&gt;</th><th scope=col>&lt;int&gt;</th><th scope=col>&lt;int&gt;</th><th scope=col>&lt;int&gt;</th><th scope=col>⋯</th><th scope=col>&lt;dbl&gt;</th><th scope=col>&lt;dbl&gt;</th><th scope=col>&lt;int&gt;</th><th scope=col>&lt;int&gt;</th><th scope=col>&lt;int&gt;</th><th scope=col>&lt;int&gt;</th><th scope=col>&lt;int&gt;</th><th scope=col>&lt;int&gt;</th><th scope=col>&lt;int&gt;</th><th scope=col>&lt;int&gt;</th></tr>\n",
       "</thead>\n",
       "<tbody>\n",
       "\t<tr><th scope=row>493</th><td>190001571703</td><td>São Paulo</td><td>17</td><td>F</td><td>1</td><td>1</td><td>3</td><td>1</td><td>35151506</td><td>1</td><td>⋯</td><td>592.0</td><td>640.0</td><td>0</td><td>1</td><td>160</td><td>160</td><td>140</td><td>140</td><td>120</td><td>720</td></tr>\n",
       "\t<tr><th scope=row>7918</th><td>190001599621</td><td>São Paulo</td><td>18</td><td>F</td><td>1</td><td>1</td><td>3</td><td>1</td><td>35151506</td><td>1</td><td>⋯</td><td>616.0</td><td>699.5</td><td>0</td><td>1</td><td>160</td><td>120</td><td>160</td><td>160</td><td>140</td><td>740</td></tr>\n",
       "\t<tr><th scope=row>14380</th><td>190001618369</td><td>São Paulo</td><td>17</td><td>M</td><td>1</td><td>1</td><td>3</td><td>1</td><td>35151506</td><td>1</td><td>⋯</td><td>592.6</td><td>780.2</td><td>0</td><td>1</td><td>120</td><td>120</td><td>100</td><td>140</td><td>160</td><td>640</td></tr>\n",
       "\t<tr><th scope=row>22540</th><td>190001802905</td><td>São Paulo</td><td>17</td><td>F</td><td>2</td><td>1</td><td>3</td><td>1</td><td>35151506</td><td>1</td><td>⋯</td><td>594.0</td><td>732.2</td><td>0</td><td>1</td><td>140</td><td>120</td><td>140</td><td>180</td><td>120</td><td>700</td></tr>\n",
       "\t<tr><th scope=row>58249</th><td>190001856755</td><td>São Paulo</td><td>17</td><td>M</td><td>1</td><td>1</td><td>3</td><td>1</td><td>35151506</td><td>1</td><td>⋯</td><td>603.8</td><td>756.3</td><td>0</td><td>1</td><td>160</td><td>200</td><td>200</td><td>200</td><td>200</td><td>960</td></tr>\n",
       "\t<tr><th scope=row>63561</th><td>190001877421</td><td>São Paulo</td><td>17</td><td>M</td><td>1</td><td>1</td><td>3</td><td>1</td><td>35151506</td><td>1</td><td>⋯</td><td>599.7</td><td>752.0</td><td>0</td><td>1</td><td>120</td><td>140</td><td>120</td><td>120</td><td>140</td><td>640</td></tr>\n",
       "</tbody>\n",
       "</table>\n"
      ],
      "text/latex": [
       "A data.frame: 6 × 25\n",
       "\\begin{tabular}{r|lllllllllllllllllllll}\n",
       "  & NU\\_INSCRICAO & NO\\_MUNICIPIO\\_RESIDENCIA & NU\\_IDADE & TP\\_SEXO & TP\\_COR\\_RACA & TP\\_NACIONALIDADE & TP\\_ESCOLA & TP\\_ENSINO & CO\\_ESCOLA & TP\\_PRESENCA\\_CN & ⋯ & NOTA\\_LC & NOTA\\_MT & TP\\_LINGUA & TP\\_STATUS\\_REDACAO & NOTA\\_COMP1 & NOTA\\_COMP2 & NOTA\\_COMP3 & NOTA\\_COMP4 & NOTA\\_COMP5 & NOTA\\_REDACAO\\\\\n",
       "  & <dbl> & <chr> & <int> & <chr> & <int> & <int> & <int> & <int> & <int> & <int> & ⋯ & <dbl> & <dbl> & <int> & <int> & <int> & <int> & <int> & <int> & <int> & <int>\\\\\n",
       "\\hline\n",
       "\t493 & 190001571703 & São Paulo & 17 & F & 1 & 1 & 3 & 1 & 35151506 & 1 & ⋯ & 592.0 & 640.0 & 0 & 1 & 160 & 160 & 140 & 140 & 120 & 720\\\\\n",
       "\t7918 & 190001599621 & São Paulo & 18 & F & 1 & 1 & 3 & 1 & 35151506 & 1 & ⋯ & 616.0 & 699.5 & 0 & 1 & 160 & 120 & 160 & 160 & 140 & 740\\\\\n",
       "\t14380 & 190001618369 & São Paulo & 17 & M & 1 & 1 & 3 & 1 & 35151506 & 1 & ⋯ & 592.6 & 780.2 & 0 & 1 & 120 & 120 & 100 & 140 & 160 & 640\\\\\n",
       "\t22540 & 190001802905 & São Paulo & 17 & F & 2 & 1 & 3 & 1 & 35151506 & 1 & ⋯ & 594.0 & 732.2 & 0 & 1 & 140 & 120 & 140 & 180 & 120 & 700\\\\\n",
       "\t58249 & 190001856755 & São Paulo & 17 & M & 1 & 1 & 3 & 1 & 35151506 & 1 & ⋯ & 603.8 & 756.3 & 0 & 1 & 160 & 200 & 200 & 200 & 200 & 960\\\\\n",
       "\t63561 & 190001877421 & São Paulo & 17 & M & 1 & 1 & 3 & 1 & 35151506 & 1 & ⋯ & 599.7 & 752.0 & 0 & 1 & 120 & 140 & 120 & 120 & 140 & 640\\\\\n",
       "\\end{tabular}\n"
      ],
      "text/markdown": [
       "\n",
       "A data.frame: 6 × 25\n",
       "\n",
       "| <!--/--> | NU_INSCRICAO &lt;dbl&gt; | NO_MUNICIPIO_RESIDENCIA &lt;chr&gt; | NU_IDADE &lt;int&gt; | TP_SEXO &lt;chr&gt; | TP_COR_RACA &lt;int&gt; | TP_NACIONALIDADE &lt;int&gt; | TP_ESCOLA &lt;int&gt; | TP_ENSINO &lt;int&gt; | CO_ESCOLA &lt;int&gt; | TP_PRESENCA_CN &lt;int&gt; | ⋯ ⋯ | NOTA_LC &lt;dbl&gt; | NOTA_MT &lt;dbl&gt; | TP_LINGUA &lt;int&gt; | TP_STATUS_REDACAO &lt;int&gt; | NOTA_COMP1 &lt;int&gt; | NOTA_COMP2 &lt;int&gt; | NOTA_COMP3 &lt;int&gt; | NOTA_COMP4 &lt;int&gt; | NOTA_COMP5 &lt;int&gt; | NOTA_REDACAO &lt;int&gt; |\n",
       "|---|---|---|---|---|---|---|---|---|---|---|---|---|---|---|---|---|---|---|---|---|---|\n",
       "| 493 | 190001571703 | São Paulo | 17 | F | 1 | 1 | 3 | 1 | 35151506 | 1 | ⋯ | 592.0 | 640.0 | 0 | 1 | 160 | 160 | 140 | 140 | 120 | 720 |\n",
       "| 7918 | 190001599621 | São Paulo | 18 | F | 1 | 1 | 3 | 1 | 35151506 | 1 | ⋯ | 616.0 | 699.5 | 0 | 1 | 160 | 120 | 160 | 160 | 140 | 740 |\n",
       "| 14380 | 190001618369 | São Paulo | 17 | M | 1 | 1 | 3 | 1 | 35151506 | 1 | ⋯ | 592.6 | 780.2 | 0 | 1 | 120 | 120 | 100 | 140 | 160 | 640 |\n",
       "| 22540 | 190001802905 | São Paulo | 17 | F | 2 | 1 | 3 | 1 | 35151506 | 1 | ⋯ | 594.0 | 732.2 | 0 | 1 | 140 | 120 | 140 | 180 | 120 | 700 |\n",
       "| 58249 | 190001856755 | São Paulo | 17 | M | 1 | 1 | 3 | 1 | 35151506 | 1 | ⋯ | 603.8 | 756.3 | 0 | 1 | 160 | 200 | 200 | 200 | 200 | 960 |\n",
       "| 63561 | 190001877421 | São Paulo | 17 | M | 1 | 1 | 3 | 1 | 35151506 | 1 | ⋯ | 599.7 | 752.0 | 0 | 1 | 120 | 140 | 120 | 120 | 140 | 640 |\n",
       "\n"
      ],
      "text/plain": [
       "      NU_INSCRICAO NO_MUNICIPIO_RESIDENCIA NU_IDADE TP_SEXO TP_COR_RACA\n",
       "493   190001571703 São Paulo               17       F       1          \n",
       "7918  190001599621 São Paulo               18       F       1          \n",
       "14380 190001618369 São Paulo               17       M       1          \n",
       "22540 190001802905 São Paulo               17       F       2          \n",
       "58249 190001856755 São Paulo               17       M       1          \n",
       "63561 190001877421 São Paulo               17       M       1          \n",
       "      TP_NACIONALIDADE TP_ESCOLA TP_ENSINO CO_ESCOLA TP_PRESENCA_CN <U+22EF>       \n",
       "493   1                3         1         35151506  1              <U+22EF>\n",
       "7918  1                3         1         35151506  1              <U+22EF>\n",
       "14380 1                3         1         35151506  1              <U+22EF>\n",
       "22540 1                3         1         35151506  1              <U+22EF>\n",
       "58249 1                3         1         35151506  1              <U+22EF>\n",
       "63561 1                3         1         35151506  1              <U+22EF>\n",
       "      NOTA_LC NOTA_MT TP_LINGUA TP_STATUS_REDACAO NOTA_COMP1 NOTA_COMP2\n",
       "493   592.0   640.0   0         1                 160        160       \n",
       "7918  616.0   699.5   0         1                 160        120       \n",
       "14380 592.6   780.2   0         1                 120        120       \n",
       "22540 594.0   732.2   0         1                 140        120       \n",
       "58249 603.8   756.3   0         1                 160        200       \n",
       "63561 599.7   752.0   0         1                 120        140       \n",
       "      NOTA_COMP3 NOTA_COMP4 NOTA_COMP5 NOTA_REDACAO\n",
       "493   140        140        120        720         \n",
       "7918  160        160        140        740         \n",
       "14380 100        140        160        640         \n",
       "22540 140        180        120        700         \n",
       "58249 200        200        200        960         \n",
       "63561 120        120        140        640         "
      ]
     },
     "metadata": {},
     "output_type": "display_data"
    }
   ],
   "source": [
    "head(colegioy)"
   ]
  },
  {
   "cell_type": "markdown",
   "id": "20689cc3",
   "metadata": {},
   "source": [
    "# 1.0 Descrição dos Dados"
   ]
  },
  {
   "cell_type": "code",
   "execution_count": 6,
   "id": "37a7978c",
   "metadata": {},
   "outputs": [
    {
     "name": "stdout",
     "output_type": "stream",
     "text": [
      "'data.frame':\t30 obs. of  25 variables:\n",
      " $ NU_INSCRICAO           : num  1.9e+11 1.9e+11 1.9e+11 1.9e+11 1.9e+11 ...\n",
      " $ NO_MUNICIPIO_RESIDENCIA: chr  \"São Paulo\" \"São Paulo\" \"São Paulo\" \"São Paulo\" ...\n",
      " $ NU_IDADE               : int  17 18 17 17 17 17 17 17 17 17 ...\n",
      " $ TP_SEXO                : chr  \"F\" \"F\" \"M\" \"F\" ...\n",
      " $ TP_COR_RACA            : int  1 1 1 2 1 1 2 1 1 1 ...\n",
      " $ TP_NACIONALIDADE       : int  1 1 1 1 1 1 1 1 1 1 ...\n",
      " $ TP_ESCOLA              : int  3 3 3 3 3 3 3 3 3 3 ...\n",
      " $ TP_ENSINO              : int  1 1 1 1 1 1 1 1 1 1 ...\n",
      " $ CO_ESCOLA              : int  35151506 35151506 35151506 35151506 35151506 35151506 35151506 35151506 35151506 35151506 ...\n",
      " $ TP_PRESENCA_CN         : int  1 1 1 1 1 1 1 1 1 1 ...\n",
      " $ TP_PRESENCA_CH         : int  1 1 1 1 1 1 1 1 1 1 ...\n",
      " $ TP_PRESENCA_LC         : int  1 1 1 1 1 1 1 1 1 1 ...\n",
      " $ TP_PRESENCA_MT         : int  1 1 1 1 1 1 1 1 1 1 ...\n",
      " $ NOTA_CN                : num  549 604 615 575 593 ...\n",
      " $ NOTA_CH                : num  576 578 601 659 561 ...\n",
      " $ NOTA_LC                : num  592 616 593 594 604 ...\n",
      " $ NOTA_MT                : num  640 700 780 732 756 ...\n",
      " $ TP_LINGUA              : int  0 0 0 0 0 0 0 0 0 0 ...\n",
      " $ TP_STATUS_REDACAO      : int  1 1 1 1 1 1 1 1 1 1 ...\n",
      " $ NOTA_COMP1             : int  160 160 120 140 160 120 140 160 120 140 ...\n",
      " $ NOTA_COMP2             : int  160 120 120 120 200 140 140 140 120 120 ...\n",
      " $ NOTA_COMP3             : int  140 160 100 140 200 120 140 180 140 120 ...\n",
      " $ NOTA_COMP4             : int  140 160 140 180 200 120 120 180 140 120 ...\n",
      " $ NOTA_COMP5             : int  120 140 160 120 200 140 140 140 140 100 ...\n",
      " $ NOTA_REDACAO           : int  720 740 640 700 960 640 680 800 660 600 ...\n"
     ]
    }
   ],
   "source": [
    "str(colegioy)"
   ]
  },
  {
   "cell_type": "markdown",
   "id": "0a72cb24",
   "metadata": {},
   "source": [
    "# 2.0 Teste de Normalidade"
   ]
  },
  {
   "cell_type": "markdown",
   "id": "413b0788",
   "metadata": {},
   "source": [
    "Nível de significância de 5%\n",
    "\n",
    "- Ho = distribuição normal : p > 0.05\n",
    "- Ha = distribuição não normal : p <= 0.05"
   ]
  },
  {
   "cell_type": "code",
   "execution_count": 7,
   "id": "185789df",
   "metadata": {},
   "outputs": [
    {
     "data": {
      "text/plain": [
       "\n",
       "\tShapiro-Wilk normality tests\n",
       "\n",
       "data:  NOTA_CN by TP_SEXO \n",
       "\n",
       "       W p-value\n",
       "F 0.9032  0.1065\n",
       "M 0.9603  0.6974\n"
      ]
     },
     "metadata": {},
     "output_type": "display_data"
    }
   ],
   "source": [
    "byf.shapiro(NOTA_CN ~ TP_SEXO, colegioy)"
   ]
  },
  {
   "cell_type": "code",
   "execution_count": 8,
   "id": "93bad8ac",
   "metadata": {},
   "outputs": [
    {
     "data": {
      "text/plain": [
       "\n",
       "\tShapiro-Wilk normality tests\n",
       "\n",
       "data:  NOTA_CH by TP_SEXO \n",
       "\n",
       "       W p-value\n",
       "F 0.9808  0.9745\n",
       "M 0.9420  0.4084\n"
      ]
     },
     "metadata": {},
     "output_type": "display_data"
    }
   ],
   "source": [
    "byf.shapiro(NOTA_CH ~ TP_SEXO, colegioy)"
   ]
  },
  {
   "cell_type": "code",
   "execution_count": 9,
   "id": "d011ee08",
   "metadata": {},
   "outputs": [
    {
     "data": {
      "text/plain": [
       "\n",
       "\tShapiro-Wilk normality tests\n",
       "\n",
       "data:  NOTA_LC by TP_SEXO \n",
       "\n",
       "       W p-value  \n",
       "F 0.8481  0.0163 *\n",
       "M 0.9761  0.9357  \n",
       "---\n",
       "Signif. codes:  0 '***' 0.001 '**' 0.01 '*' 0.05 '.' 0.1 ' ' 1\n"
      ]
     },
     "metadata": {},
     "output_type": "display_data"
    }
   ],
   "source": [
    "byf.shapiro(NOTA_LC ~ TP_SEXO, colegioy)"
   ]
  },
  {
   "cell_type": "code",
   "execution_count": 10,
   "id": "e34f93b0",
   "metadata": {},
   "outputs": [
    {
     "data": {
      "text/plain": [
       "\n",
       "\tShapiro-Wilk normality tests\n",
       "\n",
       "data:  NOTA_MT by TP_SEXO \n",
       "\n",
       "       W p-value\n",
       "F 0.9560  0.6228\n",
       "M 0.9801  0.9703\n"
      ]
     },
     "metadata": {},
     "output_type": "display_data"
    }
   ],
   "source": [
    "byf.shapiro(NOTA_MT ~ TP_SEXO, colegioy)"
   ]
  },
  {
   "cell_type": "code",
   "execution_count": 11,
   "id": "8e06db99",
   "metadata": {},
   "outputs": [
    {
     "data": {
      "text/plain": [
       "\n",
       "\tShapiro-Wilk normality tests\n",
       "\n",
       "data:  NOTA_REDACAO by TP_SEXO \n",
       "\n",
       "       W p-value  \n",
       "F 0.9508 0.53673  \n",
       "M 0.8825 0.05173 .\n",
       "---\n",
       "Signif. codes:  0 '***' 0.001 '**' 0.01 '*' 0.05 '.' 0.1 ' ' 1\n"
      ]
     },
     "metadata": {},
     "output_type": "display_data"
    }
   ],
   "source": [
    "byf.shapiro(NOTA_REDACAO ~ TP_SEXO, colegioy)"
   ]
  },
  {
   "cell_type": "markdown",
   "id": "97119158",
   "metadata": {},
   "source": [
    "**A nota de Linguagens e Códigos(LC) não passou no teste de normalidade.**"
   ]
  },
  {
   "cell_type": "markdown",
   "id": "cc25972b",
   "metadata": {},
   "source": [
    "# 3.0 Homogeneidade das Variâncias"
   ]
  },
  {
   "cell_type": "markdown",
   "id": "0155a649",
   "metadata": {},
   "source": [
    "**Variabilidade dos erros constantes.**\n",
    "\n",
    "Nível de significância de 5%\n",
    "\n",
    "- Ho = variâncias homogêneas : p > 0.05\n",
    "- Ha = variâncias não homogêneas : p <= 0.05"
   ]
  },
  {
   "cell_type": "code",
   "execution_count": 12,
   "id": "fa02fe8a",
   "metadata": {},
   "outputs": [
    {
     "name": "stderr",
     "output_type": "stream",
     "text": [
      "Warning message in leveneTest.default(y = y, group = group, ...):\n",
      "\"group coerced to factor.\"\n"
     ]
    },
    {
     "data": {
      "text/html": [
       "<table class=\"dataframe\">\n",
       "<caption>A anova: 2 × 3</caption>\n",
       "<thead>\n",
       "\t<tr><th></th><th scope=col>Df</th><th scope=col>F value</th><th scope=col>Pr(&gt;F)</th></tr>\n",
       "\t<tr><th></th><th scope=col>&lt;int&gt;</th><th scope=col>&lt;dbl&gt;</th><th scope=col>&lt;dbl&gt;</th></tr>\n",
       "</thead>\n",
       "<tbody>\n",
       "\t<tr><th scope=row>group</th><td> 1</td><td>1.341052</td><td>0.2566312</td></tr>\n",
       "\t<tr><th scope=row> </th><td>28</td><td>      NA</td><td>       NA</td></tr>\n",
       "</tbody>\n",
       "</table>\n"
      ],
      "text/latex": [
       "A anova: 2 × 3\n",
       "\\begin{tabular}{r|lll}\n",
       "  & Df & F value & Pr(>F)\\\\\n",
       "  & <int> & <dbl> & <dbl>\\\\\n",
       "\\hline\n",
       "\tgroup &  1 & 1.341052 & 0.2566312\\\\\n",
       "\t  & 28 &       NA &        NA\\\\\n",
       "\\end{tabular}\n"
      ],
      "text/markdown": [
       "\n",
       "A anova: 2 × 3\n",
       "\n",
       "| <!--/--> | Df &lt;int&gt; | F value &lt;dbl&gt; | Pr(&gt;F) &lt;dbl&gt; |\n",
       "|---|---|---|---|\n",
       "| group |  1 | 1.341052 | 0.2566312 |\n",
       "| <!----> | 28 |       NA |        NA |\n",
       "\n"
      ],
      "text/plain": [
       "      Df F value  Pr(>F)   \n",
       "group  1 1.341052 0.2566312\n",
       "      28       NA        NA"
      ]
     },
     "metadata": {},
     "output_type": "display_data"
    }
   ],
   "source": [
    "leveneTest(NOTA_CN ~ TP_SEXO, colegioy, center=mean)"
   ]
  },
  {
   "cell_type": "code",
   "execution_count": 13,
   "id": "462eaf10",
   "metadata": {},
   "outputs": [
    {
     "name": "stderr",
     "output_type": "stream",
     "text": [
      "Warning message in leveneTest.default(y = y, group = group, ...):\n",
      "\"group coerced to factor.\"\n"
     ]
    },
    {
     "data": {
      "text/html": [
       "<table class=\"dataframe\">\n",
       "<caption>A anova: 2 × 3</caption>\n",
       "<thead>\n",
       "\t<tr><th></th><th scope=col>Df</th><th scope=col>F value</th><th scope=col>Pr(&gt;F)</th></tr>\n",
       "\t<tr><th></th><th scope=col>&lt;int&gt;</th><th scope=col>&lt;dbl&gt;</th><th scope=col>&lt;dbl&gt;</th></tr>\n",
       "</thead>\n",
       "<tbody>\n",
       "\t<tr><th scope=row>group</th><td> 1</td><td>0.03492024</td><td>0.8531103</td></tr>\n",
       "\t<tr><th scope=row> </th><td>28</td><td>        NA</td><td>       NA</td></tr>\n",
       "</tbody>\n",
       "</table>\n"
      ],
      "text/latex": [
       "A anova: 2 × 3\n",
       "\\begin{tabular}{r|lll}\n",
       "  & Df & F value & Pr(>F)\\\\\n",
       "  & <int> & <dbl> & <dbl>\\\\\n",
       "\\hline\n",
       "\tgroup &  1 & 0.03492024 & 0.8531103\\\\\n",
       "\t  & 28 &         NA &        NA\\\\\n",
       "\\end{tabular}\n"
      ],
      "text/markdown": [
       "\n",
       "A anova: 2 × 3\n",
       "\n",
       "| <!--/--> | Df &lt;int&gt; | F value &lt;dbl&gt; | Pr(&gt;F) &lt;dbl&gt; |\n",
       "|---|---|---|---|\n",
       "| group |  1 | 0.03492024 | 0.8531103 |\n",
       "| <!----> | 28 |         NA |        NA |\n",
       "\n"
      ],
      "text/plain": [
       "      Df F value    Pr(>F)   \n",
       "group  1 0.03492024 0.8531103\n",
       "      28         NA        NA"
      ]
     },
     "metadata": {},
     "output_type": "display_data"
    }
   ],
   "source": [
    "leveneTest(NOTA_CH ~ TP_SEXO, colegioy, center=mean)"
   ]
  },
  {
   "cell_type": "code",
   "execution_count": 14,
   "id": "86baa4b4",
   "metadata": {},
   "outputs": [
    {
     "name": "stderr",
     "output_type": "stream",
     "text": [
      "Warning message in leveneTest.default(y = y, group = group, ...):\n",
      "\"group coerced to factor.\"\n"
     ]
    },
    {
     "data": {
      "text/html": [
       "<table class=\"dataframe\">\n",
       "<caption>A anova: 2 × 3</caption>\n",
       "<thead>\n",
       "\t<tr><th></th><th scope=col>Df</th><th scope=col>F value</th><th scope=col>Pr(&gt;F)</th></tr>\n",
       "\t<tr><th></th><th scope=col>&lt;int&gt;</th><th scope=col>&lt;dbl&gt;</th><th scope=col>&lt;dbl&gt;</th></tr>\n",
       "</thead>\n",
       "<tbody>\n",
       "\t<tr><th scope=row>group</th><td> 1</td><td>2.50647</td><td>0.1246109</td></tr>\n",
       "\t<tr><th scope=row> </th><td>28</td><td>     NA</td><td>       NA</td></tr>\n",
       "</tbody>\n",
       "</table>\n"
      ],
      "text/latex": [
       "A anova: 2 × 3\n",
       "\\begin{tabular}{r|lll}\n",
       "  & Df & F value & Pr(>F)\\\\\n",
       "  & <int> & <dbl> & <dbl>\\\\\n",
       "\\hline\n",
       "\tgroup &  1 & 2.50647 & 0.1246109\\\\\n",
       "\t  & 28 &      NA &        NA\\\\\n",
       "\\end{tabular}\n"
      ],
      "text/markdown": [
       "\n",
       "A anova: 2 × 3\n",
       "\n",
       "| <!--/--> | Df &lt;int&gt; | F value &lt;dbl&gt; | Pr(&gt;F) &lt;dbl&gt; |\n",
       "|---|---|---|---|\n",
       "| group |  1 | 2.50647 | 0.1246109 |\n",
       "| <!----> | 28 |      NA |        NA |\n",
       "\n"
      ],
      "text/plain": [
       "      Df F value Pr(>F)   \n",
       "group  1 2.50647 0.1246109\n",
       "      28      NA        NA"
      ]
     },
     "metadata": {},
     "output_type": "display_data"
    }
   ],
   "source": [
    "leveneTest(NOTA_MT ~ TP_SEXO, colegioy, center=mean)"
   ]
  },
  {
   "cell_type": "code",
   "execution_count": 15,
   "id": "fe858a68",
   "metadata": {},
   "outputs": [
    {
     "name": "stderr",
     "output_type": "stream",
     "text": [
      "Warning message in leveneTest.default(y = y, group = group, ...):\n",
      "\"group coerced to factor.\"\n"
     ]
    },
    {
     "data": {
      "text/html": [
       "<table class=\"dataframe\">\n",
       "<caption>A anova: 2 × 3</caption>\n",
       "<thead>\n",
       "\t<tr><th></th><th scope=col>Df</th><th scope=col>F value</th><th scope=col>Pr(&gt;F)</th></tr>\n",
       "\t<tr><th></th><th scope=col>&lt;int&gt;</th><th scope=col>&lt;dbl&gt;</th><th scope=col>&lt;dbl&gt;</th></tr>\n",
       "</thead>\n",
       "<tbody>\n",
       "\t<tr><th scope=row>group</th><td> 1</td><td>2.9514</td><td>0.09684474</td></tr>\n",
       "\t<tr><th scope=row> </th><td>28</td><td>    NA</td><td>        NA</td></tr>\n",
       "</tbody>\n",
       "</table>\n"
      ],
      "text/latex": [
       "A anova: 2 × 3\n",
       "\\begin{tabular}{r|lll}\n",
       "  & Df & F value & Pr(>F)\\\\\n",
       "  & <int> & <dbl> & <dbl>\\\\\n",
       "\\hline\n",
       "\tgroup &  1 & 2.9514 & 0.09684474\\\\\n",
       "\t  & 28 &     NA &         NA\\\\\n",
       "\\end{tabular}\n"
      ],
      "text/markdown": [
       "\n",
       "A anova: 2 × 3\n",
       "\n",
       "| <!--/--> | Df &lt;int&gt; | F value &lt;dbl&gt; | Pr(&gt;F) &lt;dbl&gt; |\n",
       "|---|---|---|---|\n",
       "| group |  1 | 2.9514 | 0.09684474 |\n",
       "| <!----> | 28 |     NA |         NA |\n",
       "\n"
      ],
      "text/plain": [
       "      Df F value Pr(>F)    \n",
       "group  1 2.9514  0.09684474\n",
       "      28     NA          NA"
      ]
     },
     "metadata": {},
     "output_type": "display_data"
    }
   ],
   "source": [
    "leveneTest(NOTA_REDACAO ~ TP_SEXO, colegioy, center=mean)"
   ]
  },
  {
   "cell_type": "markdown",
   "id": "ef5c7ff5",
   "metadata": {},
   "source": [
    "# 4.0 Teste T para amostras independentes"
   ]
  },
  {
   "cell_type": "markdown",
   "id": "8d8188d9",
   "metadata": {},
   "source": [
    "Nível de significância de 5%\n",
    "\n",
    "- Ho = não há diferença entre as notas : p > 0.05\n",
    "- Ha = há diferença entre as notas : p <= 0.05\n",
    "\n",
    "O default do teste é bicaudal.\n",
    "Para teste unicaudal, colocar \"alternative='greater'\" ou \"alternative='less'\""
   ]
  },
  {
   "cell_type": "code",
   "execution_count": 16,
   "id": "eff914bf",
   "metadata": {},
   "outputs": [
    {
     "data": {
      "text/plain": [
       "\n",
       "\tTwo Sample t-test\n",
       "\n",
       "data:  NOTA_CN by TP_SEXO\n",
       "t = -3.1809, df = 28, p-value = 0.003573\n",
       "alternative hypothesis: true difference in means between group F and group M is not equal to 0\n",
       "95 percent confidence interval:\n",
       " -66.37240 -14.37427\n",
       "sample estimates:\n",
       "mean in group F mean in group M \n",
       "       563.9333        604.3067 \n"
      ]
     },
     "metadata": {},
     "output_type": "display_data"
    }
   ],
   "source": [
    "t.test(NOTA_CN ~ TP_SEXO, colegioy, var.equal=T) # variância homogênea"
   ]
  },
  {
   "cell_type": "code",
   "execution_count": 17,
   "id": "4e3c2e08",
   "metadata": {},
   "outputs": [
    {
     "data": {
      "text/plain": [
       "\n",
       "\tTwo Sample t-test\n",
       "\n",
       "data:  NOTA_CH by TP_SEXO\n",
       "t = -2.9242, df = 28, p-value = 0.00677\n",
       "alternative hypothesis: true difference in means between group F and group M is not equal to 0\n",
       "95 percent confidence interval:\n",
       " -87.83638 -15.47028\n",
       "sample estimates:\n",
       "mean in group F mean in group M \n",
       "       574.9867        626.6400 \n"
      ]
     },
     "metadata": {},
     "output_type": "display_data"
    }
   ],
   "source": [
    "t.test(NOTA_CH ~ TP_SEXO, colegioy, var.equal=T)"
   ]
  },
  {
   "cell_type": "code",
   "execution_count": 18,
   "id": "6107e075",
   "metadata": {},
   "outputs": [
    {
     "data": {
      "text/plain": [
       "\n",
       "\tTwo Sample t-test\n",
       "\n",
       "data:  NOTA_MT by TP_SEXO\n",
       "t = -4.0747, df = 28, p-value = 0.0003438\n",
       "alternative hypothesis: true difference in means between group F and group M is not equal to 0\n",
       "95 percent confidence interval:\n",
       " -203.23651  -67.25682\n",
       "sample estimates:\n",
       "mean in group F mean in group M \n",
       "       616.2733        751.5200 \n"
      ]
     },
     "metadata": {},
     "output_type": "display_data"
    }
   ],
   "source": [
    "t.test(NOTA_MT ~ TP_SEXO, colegioy, var.equal=T)"
   ]
  },
  {
   "cell_type": "code",
   "execution_count": 19,
   "id": "8f1bc0d3",
   "metadata": {},
   "outputs": [
    {
     "data": {
      "text/plain": [
       "\n",
       "\tTwo Sample t-test\n",
       "\n",
       "data:  NOTA_REDACAO by TP_SEXO\n",
       "t = -0.85175, df = 28, p-value = 0.4016\n",
       "alternative hypothesis: true difference in means between group F and group M is not equal to 0\n",
       "95 percent confidence interval:\n",
       " -99.87804  41.21137\n",
       "sample estimates:\n",
       "mean in group F mean in group M \n",
       "       701.3333        730.6667 \n"
      ]
     },
     "metadata": {},
     "output_type": "display_data"
    }
   ],
   "source": [
    "t.test(NOTA_REDACAO ~ TP_SEXO, colegioy, var.equal=T)"
   ]
  },
  {
   "cell_type": "markdown",
   "id": "e235c77b",
   "metadata": {},
   "source": [
    "**Conclusão:** Com um intervalo de confiança de 95%, as evidências mostraram que há uma diferença entre as notas de homens e mulheres nas provas de CN, CH e MT. Já na redação, não há evidências para dizer que exista diferença."
   ]
  },
  {
   "cell_type": "code",
   "execution_count": null,
   "id": "5b1068b2",
   "metadata": {},
   "outputs": [],
   "source": []
  }
 ],
 "metadata": {
  "kernelspec": {
   "display_name": "R",
   "language": "R",
   "name": "ir"
  },
  "language_info": {
   "codemirror_mode": "r",
   "file_extension": ".r",
   "mimetype": "text/x-r-source",
   "name": "R",
   "pygments_lexer": "r",
   "version": "4.1.1"
  }
 },
 "nbformat": 4,
 "nbformat_minor": 5
}
