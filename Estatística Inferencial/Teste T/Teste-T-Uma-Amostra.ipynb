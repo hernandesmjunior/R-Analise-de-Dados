{
 "cells": [
  {
   "cell_type": "markdown",
   "id": "9663edaf",
   "metadata": {},
   "source": [
    "# TESTE T PARA UMA AMOSTRA\n",
    "\n",
    "### Hipótese: média das notas do colégio Y é igual ao do estado de São Paulo"
   ]
  },
  {
   "cell_type": "markdown",
   "id": "85c21e52",
   "metadata": {},
   "source": [
    "# 0.0 Importações"
   ]
  },
  {
   "cell_type": "markdown",
   "id": "6494fc3c",
   "metadata": {},
   "source": [
    "## 0.1 Bibliotecas"
   ]
  },
  {
   "cell_type": "code",
   "execution_count": 1,
   "id": "2564a627",
   "metadata": {},
   "outputs": [
    {
     "name": "stderr",
     "output_type": "stream",
     "text": [
      "\n",
      "Attaching package: 'dplyr'\n",
      "\n",
      "\n",
      "The following objects are masked from 'package:stats':\n",
      "\n",
      "    filter, lag\n",
      "\n",
      "\n",
      "The following objects are masked from 'package:base':\n",
      "\n",
      "    intersect, setdiff, setequal, union\n",
      "\n",
      "\n",
      "\n",
      "Attaching package: 'rstatix'\n",
      "\n",
      "\n",
      "The following object is masked from 'package:stats':\n",
      "\n",
      "    filter\n",
      "\n",
      "\n"
     ]
    }
   ],
   "source": [
    "library(nortest)\n",
    "library(dplyr)\n",
    "library(rstatix)\n",
    "library(ggplot2)\n"
   ]
  },
  {
   "cell_type": "markdown",
   "id": "bb2b772c",
   "metadata": {},
   "source": [
    "## 0.2 Dataset"
   ]
  },
  {
   "cell_type": "code",
   "execution_count": 2,
   "id": "e7afafd9",
   "metadata": {},
   "outputs": [],
   "source": [
    "enem2019_tratado <- read.csv('data/enem2019_tratado.csv', sep=\",\")"
   ]
  },
  {
   "cell_type": "code",
   "execution_count": 3,
   "id": "b613848e",
   "metadata": {},
   "outputs": [
    {
     "data": {
      "text/html": [
       "<table class=\"dataframe\">\n",
       "<caption>A data.frame: 6 × 25</caption>\n",
       "<thead>\n",
       "\t<tr><th></th><th scope=col>NU_INSCRICAO</th><th scope=col>NO_MUNICIPIO_RESIDENCIA</th><th scope=col>NU_IDADE</th><th scope=col>TP_SEXO</th><th scope=col>TP_COR_RACA</th><th scope=col>TP_NACIONALIDADE</th><th scope=col>TP_ESCOLA</th><th scope=col>TP_ENSINO</th><th scope=col>CO_ESCOLA</th><th scope=col>TP_PRESENCA_CN</th><th scope=col>⋯</th><th scope=col>NOTA_LC</th><th scope=col>NOTA_MT</th><th scope=col>TP_LINGUA</th><th scope=col>TP_STATUS_REDACAO</th><th scope=col>NOTA_COMP1</th><th scope=col>NOTA_COMP2</th><th scope=col>NOTA_COMP3</th><th scope=col>NOTA_COMP4</th><th scope=col>NOTA_COMP5</th><th scope=col>NOTA_REDACAO</th></tr>\n",
       "\t<tr><th></th><th scope=col>&lt;dbl&gt;</th><th scope=col>&lt;chr&gt;</th><th scope=col>&lt;int&gt;</th><th scope=col>&lt;chr&gt;</th><th scope=col>&lt;int&gt;</th><th scope=col>&lt;int&gt;</th><th scope=col>&lt;int&gt;</th><th scope=col>&lt;int&gt;</th><th scope=col>&lt;int&gt;</th><th scope=col>&lt;int&gt;</th><th scope=col>⋯</th><th scope=col>&lt;dbl&gt;</th><th scope=col>&lt;dbl&gt;</th><th scope=col>&lt;int&gt;</th><th scope=col>&lt;int&gt;</th><th scope=col>&lt;int&gt;</th><th scope=col>&lt;int&gt;</th><th scope=col>&lt;int&gt;</th><th scope=col>&lt;int&gt;</th><th scope=col>&lt;int&gt;</th><th scope=col>&lt;int&gt;</th></tr>\n",
       "</thead>\n",
       "<tbody>\n",
       "\t<tr><th scope=row>1</th><td>190001017053</td><td>Santa Isabel         </td><td>22</td><td>M</td><td>3</td><td>1</td><td>1</td><td> 1</td><td>      NA</td><td>1</td><td>⋯</td><td>592.9</td><td>600.2</td><td>0</td><td>1</td><td>160</td><td>200</td><td>180</td><td>200</td><td>200</td><td>940</td></tr>\n",
       "\t<tr><th scope=row>2</th><td>190001019850</td><td>São Paulo            </td><td>17</td><td>F</td><td>3</td><td>1</td><td>3</td><td> 1</td><td>15567761</td><td>1</td><td>⋯</td><td>634.3</td><td>731.8</td><td>0</td><td>1</td><td>160</td><td>120</td><td>200</td><td>200</td><td>200</td><td>880</td></tr>\n",
       "\t<tr><th scope=row>3</th><td>190001024874</td><td>São Bernardo do Campo</td><td>19</td><td>M</td><td>3</td><td>1</td><td>2</td><td> 1</td><td>35904958</td><td>1</td><td>⋯</td><td>509.6</td><td>393.2</td><td>1</td><td>1</td><td> 80</td><td>160</td><td>120</td><td>100</td><td>100</td><td>560</td></tr>\n",
       "\t<tr><th scope=row>4</th><td>190001031050</td><td>Embu-Guaçu           </td><td>17</td><td>F</td><td>3</td><td>1</td><td>2</td><td> 1</td><td>      NA</td><td>1</td><td>⋯</td><td>487.2</td><td>419.2</td><td>0</td><td>1</td><td>120</td><td>120</td><td>120</td><td>120</td><td> 80</td><td>560</td></tr>\n",
       "\t<tr><th scope=row>5</th><td>190001045429</td><td>Guarulhos            </td><td>23</td><td>F</td><td>1</td><td>1</td><td>1</td><td>NA</td><td>      NA</td><td>1</td><td>⋯</td><td>629.3</td><td>796.1</td><td>0</td><td>1</td><td>160</td><td>200</td><td>180</td><td>180</td><td>160</td><td>880</td></tr>\n",
       "\t<tr><th scope=row>6</th><td>190001050482</td><td>São José do Rio Preto</td><td>18</td><td>F</td><td>1</td><td>1</td><td>2</td><td> 1</td><td>35028927</td><td>1</td><td>⋯</td><td>555.9</td><td>612.8</td><td>1</td><td>1</td><td>120</td><td>160</td><td>120</td><td> 80</td><td>100</td><td>580</td></tr>\n",
       "</tbody>\n",
       "</table>\n"
      ],
      "text/latex": [
       "A data.frame: 6 × 25\n",
       "\\begin{tabular}{r|lllllllllllllllllllll}\n",
       "  & NU\\_INSCRICAO & NO\\_MUNICIPIO\\_RESIDENCIA & NU\\_IDADE & TP\\_SEXO & TP\\_COR\\_RACA & TP\\_NACIONALIDADE & TP\\_ESCOLA & TP\\_ENSINO & CO\\_ESCOLA & TP\\_PRESENCA\\_CN & ⋯ & NOTA\\_LC & NOTA\\_MT & TP\\_LINGUA & TP\\_STATUS\\_REDACAO & NOTA\\_COMP1 & NOTA\\_COMP2 & NOTA\\_COMP3 & NOTA\\_COMP4 & NOTA\\_COMP5 & NOTA\\_REDACAO\\\\\n",
       "  & <dbl> & <chr> & <int> & <chr> & <int> & <int> & <int> & <int> & <int> & <int> & ⋯ & <dbl> & <dbl> & <int> & <int> & <int> & <int> & <int> & <int> & <int> & <int>\\\\\n",
       "\\hline\n",
       "\t1 & 190001017053 & Santa Isabel          & 22 & M & 3 & 1 & 1 &  1 &       NA & 1 & ⋯ & 592.9 & 600.2 & 0 & 1 & 160 & 200 & 180 & 200 & 200 & 940\\\\\n",
       "\t2 & 190001019850 & São Paulo             & 17 & F & 3 & 1 & 3 &  1 & 15567761 & 1 & ⋯ & 634.3 & 731.8 & 0 & 1 & 160 & 120 & 200 & 200 & 200 & 880\\\\\n",
       "\t3 & 190001024874 & São Bernardo do Campo & 19 & M & 3 & 1 & 2 &  1 & 35904958 & 1 & ⋯ & 509.6 & 393.2 & 1 & 1 &  80 & 160 & 120 & 100 & 100 & 560\\\\\n",
       "\t4 & 190001031050 & Embu-Guaçu            & 17 & F & 3 & 1 & 2 &  1 &       NA & 1 & ⋯ & 487.2 & 419.2 & 0 & 1 & 120 & 120 & 120 & 120 &  80 & 560\\\\\n",
       "\t5 & 190001045429 & Guarulhos             & 23 & F & 1 & 1 & 1 & NA &       NA & 1 & ⋯ & 629.3 & 796.1 & 0 & 1 & 160 & 200 & 180 & 180 & 160 & 880\\\\\n",
       "\t6 & 190001050482 & São José do Rio Preto & 18 & F & 1 & 1 & 2 &  1 & 35028927 & 1 & ⋯ & 555.9 & 612.8 & 1 & 1 & 120 & 160 & 120 &  80 & 100 & 580\\\\\n",
       "\\end{tabular}\n"
      ],
      "text/markdown": [
       "\n",
       "A data.frame: 6 × 25\n",
       "\n",
       "| <!--/--> | NU_INSCRICAO &lt;dbl&gt; | NO_MUNICIPIO_RESIDENCIA &lt;chr&gt; | NU_IDADE &lt;int&gt; | TP_SEXO &lt;chr&gt; | TP_COR_RACA &lt;int&gt; | TP_NACIONALIDADE &lt;int&gt; | TP_ESCOLA &lt;int&gt; | TP_ENSINO &lt;int&gt; | CO_ESCOLA &lt;int&gt; | TP_PRESENCA_CN &lt;int&gt; | ⋯ ⋯ | NOTA_LC &lt;dbl&gt; | NOTA_MT &lt;dbl&gt; | TP_LINGUA &lt;int&gt; | TP_STATUS_REDACAO &lt;int&gt; | NOTA_COMP1 &lt;int&gt; | NOTA_COMP2 &lt;int&gt; | NOTA_COMP3 &lt;int&gt; | NOTA_COMP4 &lt;int&gt; | NOTA_COMP5 &lt;int&gt; | NOTA_REDACAO &lt;int&gt; |\n",
       "|---|---|---|---|---|---|---|---|---|---|---|---|---|---|---|---|---|---|---|---|---|---|\n",
       "| 1 | 190001017053 | Santa Isabel          | 22 | M | 3 | 1 | 1 |  1 |       NA | 1 | ⋯ | 592.9 | 600.2 | 0 | 1 | 160 | 200 | 180 | 200 | 200 | 940 |\n",
       "| 2 | 190001019850 | São Paulo             | 17 | F | 3 | 1 | 3 |  1 | 15567761 | 1 | ⋯ | 634.3 | 731.8 | 0 | 1 | 160 | 120 | 200 | 200 | 200 | 880 |\n",
       "| 3 | 190001024874 | São Bernardo do Campo | 19 | M | 3 | 1 | 2 |  1 | 35904958 | 1 | ⋯ | 509.6 | 393.2 | 1 | 1 |  80 | 160 | 120 | 100 | 100 | 560 |\n",
       "| 4 | 190001031050 | Embu-Guaçu            | 17 | F | 3 | 1 | 2 |  1 |       NA | 1 | ⋯ | 487.2 | 419.2 | 0 | 1 | 120 | 120 | 120 | 120 |  80 | 560 |\n",
       "| 5 | 190001045429 | Guarulhos             | 23 | F | 1 | 1 | 1 | NA |       NA | 1 | ⋯ | 629.3 | 796.1 | 0 | 1 | 160 | 200 | 180 | 180 | 160 | 880 |\n",
       "| 6 | 190001050482 | São José do Rio Preto | 18 | F | 1 | 1 | 2 |  1 | 35028927 | 1 | ⋯ | 555.9 | 612.8 | 1 | 1 | 120 | 160 | 120 |  80 | 100 | 580 |\n",
       "\n"
      ],
      "text/plain": [
       "  NU_INSCRICAO NO_MUNICIPIO_RESIDENCIA NU_IDADE TP_SEXO TP_COR_RACA\n",
       "1 190001017053 Santa Isabel            22       M       3          \n",
       "2 190001019850 São Paulo               17       F       3          \n",
       "3 190001024874 São Bernardo do Campo   19       M       3          \n",
       "4 190001031050 Embu-Guaçu              17       F       3          \n",
       "5 190001045429 Guarulhos               23       F       1          \n",
       "6 190001050482 São José do Rio Preto   18       F       1          \n",
       "  TP_NACIONALIDADE TP_ESCOLA TP_ENSINO CO_ESCOLA TP_PRESENCA_CN <U+22EF>       \n",
       "1 1                1          1              NA  1              <U+22EF>\n",
       "2 1                3          1        15567761  1              <U+22EF>\n",
       "3 1                2          1        35904958  1              <U+22EF>\n",
       "4 1                2          1              NA  1              <U+22EF>\n",
       "5 1                1         NA              NA  1              <U+22EF>\n",
       "6 1                2          1        35028927  1              <U+22EF>\n",
       "  NOTA_LC NOTA_MT TP_LINGUA TP_STATUS_REDACAO NOTA_COMP1 NOTA_COMP2 NOTA_COMP3\n",
       "1 592.9   600.2   0         1                 160        200        180       \n",
       "2 634.3   731.8   0         1                 160        120        200       \n",
       "3 509.6   393.2   1         1                  80        160        120       \n",
       "4 487.2   419.2   0         1                 120        120        120       \n",
       "5 629.3   796.1   0         1                 160        200        180       \n",
       "6 555.9   612.8   1         1                 120        160        120       \n",
       "  NOTA_COMP4 NOTA_COMP5 NOTA_REDACAO\n",
       "1 200        200        940         \n",
       "2 200        200        880         \n",
       "3 100        100        560         \n",
       "4 120         80        560         \n",
       "5 180        160        880         \n",
       "6  80        100        580         "
      ]
     },
     "metadata": {},
     "output_type": "display_data"
    }
   ],
   "source": [
    "head(enem2019_tratado)"
   ]
  },
  {
   "cell_type": "code",
   "execution_count": 4,
   "id": "424827d4",
   "metadata": {},
   "outputs": [],
   "source": [
    "# filtrando colégio\n",
    "\n",
    "colegioy <- enem2019_tratado %>% filter(CO_ESCOLA==\"35151506\")"
   ]
  },
  {
   "cell_type": "code",
   "execution_count": 5,
   "id": "d64dab43",
   "metadata": {},
   "outputs": [
    {
     "data": {
      "text/html": [
       "30"
      ],
      "text/latex": [
       "30"
      ],
      "text/markdown": [
       "30"
      ],
      "text/plain": [
       "[1] 30"
      ]
     },
     "metadata": {},
     "output_type": "display_data"
    }
   ],
   "source": [
    "nrow(colegioy)"
   ]
  },
  {
   "cell_type": "markdown",
   "id": "3ae4ebe1",
   "metadata": {},
   "source": [
    "# 1.0 Testes Estatísticos"
   ]
  },
  {
   "cell_type": "markdown",
   "id": "4dc758fd",
   "metadata": {},
   "source": [
    "## 1.1 Teste de normalidade"
   ]
  },
  {
   "cell_type": "markdown",
   "id": "6657a4e5",
   "metadata": {},
   "source": [
    "Nível de significância de 5%\n",
    "\n",
    "- Ho = distribuição normal : p > 0.05\n",
    "- Ha = distribuição não normal : p <= 0.05"
   ]
  },
  {
   "cell_type": "code",
   "execution_count": 6,
   "id": "f94c925d",
   "metadata": {},
   "outputs": [
    {
     "data": {
      "text/plain": [
       "\n",
       "\tShapiro-Wilk normality test\n",
       "\n",
       "data:  colegioy$NOTA_CH\n",
       "W = 0.9771, p-value = 0.7445\n"
      ]
     },
     "metadata": {},
     "output_type": "display_data"
    }
   ],
   "source": [
    "# shapiro-wilk\n",
    "\n",
    "shapiro.test(colegioy$NOTA_CH)"
   ]
  },
  {
   "cell_type": "code",
   "execution_count": 7,
   "id": "d56ea0a8",
   "metadata": {},
   "outputs": [
    {
     "data": {
      "text/plain": [
       "\n",
       "\tAnderson-Darling normality test\n",
       "\n",
       "data:  colegioy$NOTA_CH\n",
       "A = 0.21711, p-value = 0.8269\n"
      ]
     },
     "metadata": {},
     "output_type": "display_data"
    }
   ],
   "source": [
    "# anderson-darling\n",
    "\n",
    "ad.test(colegioy$NOTA_CH)"
   ]
  },
  {
   "cell_type": "code",
   "execution_count": 8,
   "id": "08049585",
   "metadata": {},
   "outputs": [
    {
     "data": {
      "text/plain": [
       "\n",
       "\tLilliefors (Kolmogorov-Smirnov) normality test\n",
       "\n",
       "data:  colegioy$NOTA_CH\n",
       "D = 0.092274, p-value = 0.7408\n"
      ]
     },
     "metadata": {},
     "output_type": "display_data"
    }
   ],
   "source": [
    "# lilliefors / kolmogorov-smirnov\n",
    "\n",
    "lillie.test(colegioy$NOTA_CH)"
   ]
  },
  {
   "cell_type": "code",
   "execution_count": 9,
   "id": "d886803e",
   "metadata": {},
   "outputs": [
    {
     "data": {
      "text/plain": [
       "\n",
       "\tCramer-von Mises normality test\n",
       "\n",
       "data:  colegioy$NOTA_CH\n",
       "W = 0.02566, p-value = 0.8954\n"
      ]
     },
     "metadata": {},
     "output_type": "display_data"
    }
   ],
   "source": [
    "# cramer-von mises\n",
    "\n",
    "cvm.test(colegioy$NOTA_CH)"
   ]
  },
  {
   "cell_type": "code",
   "execution_count": 10,
   "id": "a4adf561",
   "metadata": {},
   "outputs": [
    {
     "data": {
      "image/png": "[encoded data removed]",
      "text/plain": [
       "Plot with title \"Histogram of colegioy$NOTA_CH\""
      ]
     },
     "metadata": {
      "image/png": {
       "height": 420,
       "width": 420
      }
     },
     "output_type": "display_data"
    }
   ],
   "source": [
    "# histograma\n",
    "\n",
    "hist(colegioy$NOTA_CH, probability=T, col=\"purple\")\n",
    "lines(density(colegioy$NOTA_CH), col=\"green\")"
   ]
  },
  {
   "cell_type": "code",
   "execution_count": 11,
   "id": "9f45ec95",
   "metadata": {},
   "outputs": [
    {
     "data": {
      "image/png": "[encoded data removed]",
      "text/plain": [
       "Plot with title \"Normal Q-Q Plot\""
      ]
     },
     "metadata": {
      "image/png": {
       "height": 420,
       "width": 420
      }
     },
     "output_type": "display_data"
    }
   ],
   "source": [
    "# qqplot\n",
    "\n",
    "qqnorm(colegioy$NOTA_CH)\n",
    "qqline(colegioy$NOTA_CH)"
   ]
  },
  {
   "cell_type": "markdown",
   "id": "d1ff906c",
   "metadata": {},
   "source": [
    "## 1.2 Teste T"
   ]
  },
  {
   "cell_type": "markdown",
   "id": "f15f132e",
   "metadata": {},
   "source": [
    "- Ho = média é igual a de São Paulo : p > 0.05\n",
    "- Ha = média é diferente da de São Paulo : p <= 0.05"
   ]
  },
  {
   "cell_type": "code",
   "execution_count": 12,
   "id": "b86ec7fa",
   "metadata": {},
   "outputs": [
    {
     "data": {
      "text/html": [
       "529.614534824413"
      ],
      "text/latex": [
       "529.614534824413"
      ],
      "text/markdown": [
       "529.614534824413"
      ],
      "text/plain": [
       "[1] 529.6145"
      ]
     },
     "metadata": {},
     "output_type": "display_data"
    }
   ],
   "source": [
    "media <- mean(enem2019_tratado$NOTA_CH)\n",
    "media"
   ]
  },
  {
   "cell_type": "code",
   "execution_count": 13,
   "id": "633e6dca",
   "metadata": {},
   "outputs": [
    {
     "data": {
      "text/plain": [
       "\n",
       "\tOne Sample t-test\n",
       "\n",
       "data:  colegioy$NOTA_CH\n",
       "t = 7.1806, df = 29, p-value = 6.641e-08\n",
       "alternative hypothesis: true mean is not equal to 529.6145\n",
       "95 percent confidence interval:\n",
       " 580.5341 621.0926\n",
       "sample estimates:\n",
       "mean of x \n",
       " 600.8133 \n"
      ]
     },
     "metadata": {},
     "output_type": "display_data"
    }
   ],
   "source": [
    "t.test(colegioy$NOTA_CH, mu=media)"
   ]
  },
  {
   "cell_type": "markdown",
   "id": "d6146ed5",
   "metadata": {},
   "source": [
    "**Conclusão**: A média do colégio Y é diferente da média do estado de São Paulo."
   ]
  }
 ],
 "metadata": {
  "kernelspec": {
   "display_name": "R",
   "language": "R",
   "name": "ir"
  },
  "language_info": {
   "codemirror_mode": "r",
   "file_extension": ".r",
   "mimetype": "text/x-r-source",
   "name": "R",
   "pygments_lexer": "r",
   "version": "4.1.1"
  }
 },
 "nbformat": 4,
 "nbformat_minor": 5
}
