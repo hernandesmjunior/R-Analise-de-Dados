{
 "cells": [
  {
   "cell_type": "markdown",
   "id": "93d993e1",
   "metadata": {},
   "source": [
    "# TESTE T PAREADO\n",
    "\n",
    "Analisar as diferenças entre as médias das notas dos componentes da redação."
   ]
  },
  {
   "cell_type": "markdown",
   "id": "37165dc7",
   "metadata": {},
   "source": [
    "# 0.0 Importações"
   ]
  },
  {
   "cell_type": "markdown",
   "id": "5c652335",
   "metadata": {},
   "source": [
    "## 0.1 Bibliotecas"
   ]
  },
  {
   "cell_type": "code",
   "execution_count": 1,
   "id": "ff6f4496",
   "metadata": {},
   "outputs": [
    {
     "name": "stderr",
     "output_type": "stream",
     "text": [
      "\n",
      "Attaching package: 'dplyr'\n",
      "\n",
      "\n",
      "The following objects are masked from 'package:stats':\n",
      "\n",
      "    filter, lag\n",
      "\n",
      "\n",
      "The following objects are masked from 'package:base':\n",
      "\n",
      "    intersect, setdiff, setequal, union\n",
      "\n",
      "\n"
     ]
    }
   ],
   "source": [
    "library(dplyr)"
   ]
  },
  {
   "cell_type": "markdown",
   "id": "d412e06d",
   "metadata": {},
   "source": [
    "## 0.2 Dataset"
   ]
  },
  {
   "cell_type": "code",
   "execution_count": 2,
   "id": "4594275b",
   "metadata": {},
   "outputs": [],
   "source": [
    "enem2019_tratado <- read.csv('data/enem2019_tratado.csv', sep=',')"
   ]
  },
  {
   "cell_type": "code",
   "execution_count": 3,
   "id": "d52ab9f2",
   "metadata": {},
   "outputs": [
    {
     "data": {
      "text/html": [
       "<table class=\"dataframe\">\n",
       "<caption>A data.frame: 6 × 25</caption>\n",
       "<thead>\n",
       "\t<tr><th></th><th scope=col>NU_INSCRICAO</th><th scope=col>NO_MUNICIPIO_RESIDENCIA</th><th scope=col>NU_IDADE</th><th scope=col>TP_SEXO</th><th scope=col>TP_COR_RACA</th><th scope=col>TP_NACIONALIDADE</th><th scope=col>TP_ESCOLA</th><th scope=col>TP_ENSINO</th><th scope=col>CO_ESCOLA</th><th scope=col>TP_PRESENCA_CN</th><th scope=col>⋯</th><th scope=col>NOTA_LC</th><th scope=col>NOTA_MT</th><th scope=col>TP_LINGUA</th><th scope=col>TP_STATUS_REDACAO</th><th scope=col>NOTA_COMP1</th><th scope=col>NOTA_COMP2</th><th scope=col>NOTA_COMP3</th><th scope=col>NOTA_COMP4</th><th scope=col>NOTA_COMP5</th><th scope=col>NOTA_REDACAO</th></tr>\n",
       "\t<tr><th></th><th scope=col>&lt;dbl&gt;</th><th scope=col>&lt;chr&gt;</th><th scope=col>&lt;int&gt;</th><th scope=col>&lt;chr&gt;</th><th scope=col>&lt;int&gt;</th><th scope=col>&lt;int&gt;</th><th scope=col>&lt;int&gt;</th><th scope=col>&lt;int&gt;</th><th scope=col>&lt;int&gt;</th><th scope=col>&lt;int&gt;</th><th scope=col>⋯</th><th scope=col>&lt;dbl&gt;</th><th scope=col>&lt;dbl&gt;</th><th scope=col>&lt;int&gt;</th><th scope=col>&lt;int&gt;</th><th scope=col>&lt;int&gt;</th><th scope=col>&lt;int&gt;</th><th scope=col>&lt;int&gt;</th><th scope=col>&lt;int&gt;</th><th scope=col>&lt;int&gt;</th><th scope=col>&lt;int&gt;</th></tr>\n",
       "</thead>\n",
       "<tbody>\n",
       "\t<tr><th scope=row>1</th><td>190001017053</td><td>Santa Isabel         </td><td>22</td><td>M</td><td>3</td><td>1</td><td>1</td><td> 1</td><td>      NA</td><td>1</td><td>⋯</td><td>592.9</td><td>600.2</td><td>0</td><td>1</td><td>160</td><td>200</td><td>180</td><td>200</td><td>200</td><td>940</td></tr>\n",
       "\t<tr><th scope=row>2</th><td>190001019850</td><td>São Paulo            </td><td>17</td><td>F</td><td>3</td><td>1</td><td>3</td><td> 1</td><td>15567761</td><td>1</td><td>⋯</td><td>634.3</td><td>731.8</td><td>0</td><td>1</td><td>160</td><td>120</td><td>200</td><td>200</td><td>200</td><td>880</td></tr>\n",
       "\t<tr><th scope=row>3</th><td>190001024874</td><td>São Bernardo do Campo</td><td>19</td><td>M</td><td>3</td><td>1</td><td>2</td><td> 1</td><td>35904958</td><td>1</td><td>⋯</td><td>509.6</td><td>393.2</td><td>1</td><td>1</td><td> 80</td><td>160</td><td>120</td><td>100</td><td>100</td><td>560</td></tr>\n",
       "\t<tr><th scope=row>4</th><td>190001031050</td><td>Embu-Guaçu           </td><td>17</td><td>F</td><td>3</td><td>1</td><td>2</td><td> 1</td><td>      NA</td><td>1</td><td>⋯</td><td>487.2</td><td>419.2</td><td>0</td><td>1</td><td>120</td><td>120</td><td>120</td><td>120</td><td> 80</td><td>560</td></tr>\n",
       "\t<tr><th scope=row>5</th><td>190001045429</td><td>Guarulhos            </td><td>23</td><td>F</td><td>1</td><td>1</td><td>1</td><td>NA</td><td>      NA</td><td>1</td><td>⋯</td><td>629.3</td><td>796.1</td><td>0</td><td>1</td><td>160</td><td>200</td><td>180</td><td>180</td><td>160</td><td>880</td></tr>\n",
       "\t<tr><th scope=row>6</th><td>190001050482</td><td>São José do Rio Preto</td><td>18</td><td>F</td><td>1</td><td>1</td><td>2</td><td> 1</td><td>35028927</td><td>1</td><td>⋯</td><td>555.9</td><td>612.8</td><td>1</td><td>1</td><td>120</td><td>160</td><td>120</td><td> 80</td><td>100</td><td>580</td></tr>\n",
       "</tbody>\n",
       "</table>\n"
      ],
      "text/latex": [
       "A data.frame: 6 × 25\n",
       "\\begin{tabular}{r|lllllllllllllllllllll}\n",
       "  & NU\\_INSCRICAO & NO\\_MUNICIPIO\\_RESIDENCIA & NU\\_IDADE & TP\\_SEXO & TP\\_COR\\_RACA & TP\\_NACIONALIDADE & TP\\_ESCOLA & TP\\_ENSINO & CO\\_ESCOLA & TP\\_PRESENCA\\_CN & ⋯ & NOTA\\_LC & NOTA\\_MT & TP\\_LINGUA & TP\\_STATUS\\_REDACAO & NOTA\\_COMP1 & NOTA\\_COMP2 & NOTA\\_COMP3 & NOTA\\_COMP4 & NOTA\\_COMP5 & NOTA\\_REDACAO\\\\\n",
       "  & <dbl> & <chr> & <int> & <chr> & <int> & <int> & <int> & <int> & <int> & <int> & ⋯ & <dbl> & <dbl> & <int> & <int> & <int> & <int> & <int> & <int> & <int> & <int>\\\\\n",
       "\\hline\n",
       "\t1 & 190001017053 & Santa Isabel          & 22 & M & 3 & 1 & 1 &  1 &       NA & 1 & ⋯ & 592.9 & 600.2 & 0 & 1 & 160 & 200 & 180 & 200 & 200 & 940\\\\\n",
       "\t2 & 190001019850 & São Paulo             & 17 & F & 3 & 1 & 3 &  1 & 15567761 & 1 & ⋯ & 634.3 & 731.8 & 0 & 1 & 160 & 120 & 200 & 200 & 200 & 880\\\\\n",
       "\t3 & 190001024874 & São Bernardo do Campo & 19 & M & 3 & 1 & 2 &  1 & 35904958 & 1 & ⋯ & 509.6 & 393.2 & 1 & 1 &  80 & 160 & 120 & 100 & 100 & 560\\\\\n",
       "\t4 & 190001031050 & Embu-Guaçu            & 17 & F & 3 & 1 & 2 &  1 &       NA & 1 & ⋯ & 487.2 & 419.2 & 0 & 1 & 120 & 120 & 120 & 120 &  80 & 560\\\\\n",
       "\t5 & 190001045429 & Guarulhos             & 23 & F & 1 & 1 & 1 & NA &       NA & 1 & ⋯ & 629.3 & 796.1 & 0 & 1 & 160 & 200 & 180 & 180 & 160 & 880\\\\\n",
       "\t6 & 190001050482 & São José do Rio Preto & 18 & F & 1 & 1 & 2 &  1 & 35028927 & 1 & ⋯ & 555.9 & 612.8 & 1 & 1 & 120 & 160 & 120 &  80 & 100 & 580\\\\\n",
       "\\end{tabular}\n"
      ],
      "text/markdown": [
       "\n",
       "A data.frame: 6 × 25\n",
       "\n",
       "| <!--/--> | NU_INSCRICAO &lt;dbl&gt; | NO_MUNICIPIO_RESIDENCIA &lt;chr&gt; | NU_IDADE &lt;int&gt; | TP_SEXO &lt;chr&gt; | TP_COR_RACA &lt;int&gt; | TP_NACIONALIDADE &lt;int&gt; | TP_ESCOLA &lt;int&gt; | TP_ENSINO &lt;int&gt; | CO_ESCOLA &lt;int&gt; | TP_PRESENCA_CN &lt;int&gt; | ⋯ ⋯ | NOTA_LC &lt;dbl&gt; | NOTA_MT &lt;dbl&gt; | TP_LINGUA &lt;int&gt; | TP_STATUS_REDACAO &lt;int&gt; | NOTA_COMP1 &lt;int&gt; | NOTA_COMP2 &lt;int&gt; | NOTA_COMP3 &lt;int&gt; | NOTA_COMP4 &lt;int&gt; | NOTA_COMP5 &lt;int&gt; | NOTA_REDACAO &lt;int&gt; |\n",
       "|---|---|---|---|---|---|---|---|---|---|---|---|---|---|---|---|---|---|---|---|---|---|\n",
       "| 1 | 190001017053 | Santa Isabel          | 22 | M | 3 | 1 | 1 |  1 |       NA | 1 | ⋯ | 592.9 | 600.2 | 0 | 1 | 160 | 200 | 180 | 200 | 200 | 940 |\n",
       "| 2 | 190001019850 | São Paulo             | 17 | F | 3 | 1 | 3 |  1 | 15567761 | 1 | ⋯ | 634.3 | 731.8 | 0 | 1 | 160 | 120 | 200 | 200 | 200 | 880 |\n",
       "| 3 | 190001024874 | São Bernardo do Campo | 19 | M | 3 | 1 | 2 |  1 | 35904958 | 1 | ⋯ | 509.6 | 393.2 | 1 | 1 |  80 | 160 | 120 | 100 | 100 | 560 |\n",
       "| 4 | 190001031050 | Embu-Guaçu            | 17 | F | 3 | 1 | 2 |  1 |       NA | 1 | ⋯ | 487.2 | 419.2 | 0 | 1 | 120 | 120 | 120 | 120 |  80 | 560 |\n",
       "| 5 | 190001045429 | Guarulhos             | 23 | F | 1 | 1 | 1 | NA |       NA | 1 | ⋯ | 629.3 | 796.1 | 0 | 1 | 160 | 200 | 180 | 180 | 160 | 880 |\n",
       "| 6 | 190001050482 | São José do Rio Preto | 18 | F | 1 | 1 | 2 |  1 | 35028927 | 1 | ⋯ | 555.9 | 612.8 | 1 | 1 | 120 | 160 | 120 |  80 | 100 | 580 |\n",
       "\n"
      ],
      "text/plain": [
       "  NU_INSCRICAO NO_MUNICIPIO_RESIDENCIA NU_IDADE TP_SEXO TP_COR_RACA\n",
       "1 190001017053 Santa Isabel            22       M       3          \n",
       "2 190001019850 São Paulo               17       F       3          \n",
       "3 190001024874 São Bernardo do Campo   19       M       3          \n",
       "4 190001031050 Embu-Guaçu              17       F       3          \n",
       "5 190001045429 Guarulhos               23       F       1          \n",
       "6 190001050482 São José do Rio Preto   18       F       1          \n",
       "  TP_NACIONALIDADE TP_ESCOLA TP_ENSINO CO_ESCOLA TP_PRESENCA_CN <U+22EF>       \n",
       "1 1                1          1              NA  1              <U+22EF>\n",
       "2 1                3          1        15567761  1              <U+22EF>\n",
       "3 1                2          1        35904958  1              <U+22EF>\n",
       "4 1                2          1              NA  1              <U+22EF>\n",
       "5 1                1         NA              NA  1              <U+22EF>\n",
       "6 1                2          1        35028927  1              <U+22EF>\n",
       "  NOTA_LC NOTA_MT TP_LINGUA TP_STATUS_REDACAO NOTA_COMP1 NOTA_COMP2 NOTA_COMP3\n",
       "1 592.9   600.2   0         1                 160        200        180       \n",
       "2 634.3   731.8   0         1                 160        120        200       \n",
       "3 509.6   393.2   1         1                  80        160        120       \n",
       "4 487.2   419.2   0         1                 120        120        120       \n",
       "5 629.3   796.1   0         1                 160        200        180       \n",
       "6 555.9   612.8   1         1                 120        160        120       \n",
       "  NOTA_COMP4 NOTA_COMP5 NOTA_REDACAO\n",
       "1 200        200        940         \n",
       "2 200        200        880         \n",
       "3 100        100        560         \n",
       "4 120         80        560         \n",
       "5 180        160        880         \n",
       "6  80        100        580         "
      ]
     },
     "metadata": {},
     "output_type": "display_data"
    }
   ],
   "source": [
    "head(enem2019_tratado)"
   ]
  },
  {
   "cell_type": "code",
   "execution_count": 4,
   "id": "7d46db3a",
   "metadata": {},
   "outputs": [],
   "source": [
    "colegioy <- enem2019_tratado %>% filter(CO_ESCOLA==\"35151506\")"
   ]
  },
  {
   "cell_type": "markdown",
   "id": "9e3fa548",
   "metadata": {},
   "source": [
    "# 1.0 Teste de Normalidade"
   ]
  },
  {
   "cell_type": "markdown",
   "id": "44c099c5",
   "metadata": {},
   "source": [
    "Nível de significância de 5%\n",
    "\n",
    "- Ho = distribuição normal : p > 0.05\n",
    "- Ha = distribuição não normal : p <= 0.05"
   ]
  },
  {
   "cell_type": "code",
   "execution_count": 5,
   "id": "3fda8505",
   "metadata": {},
   "outputs": [
    {
     "data": {
      "text/plain": [
       "\n",
       "\tShapiro-Wilk normality test\n",
       "\n",
       "data:  colegioy$DiferencaNotas\n",
       "W = 0.85365, p-value = 0.00074\n"
      ]
     },
     "metadata": {},
     "output_type": "display_data"
    }
   ],
   "source": [
    "colegioy$DiferencaNotas <- colegioy$NOTA_COMP1 - colegioy$NOTA_COMP2\n",
    "shapiro.test(colegioy$DiferencaNotas)"
   ]
  },
  {
   "cell_type": "code",
   "execution_count": 6,
   "id": "1b122ca9",
   "metadata": {},
   "outputs": [
    {
     "data": {
      "text/plain": [
       "\n",
       "\tShapiro-Wilk normality test\n",
       "\n",
       "data:  colegioy$DiferencaNotas\n",
       "W = 0.82572, p-value = 0.0002003\n"
      ]
     },
     "metadata": {},
     "output_type": "display_data"
    }
   ],
   "source": [
    "colegioy$DiferencaNotas <- colegioy$NOTA_COMP1 - colegioy$NOTA_COMP3\n",
    "shapiro.test(colegioy$DiferencaNotas)"
   ]
  },
  {
   "cell_type": "code",
   "execution_count": 7,
   "id": "fcc8cf8f",
   "metadata": {},
   "outputs": [
    {
     "data": {
      "text/plain": [
       "\n",
       "\tShapiro-Wilk normality test\n",
       "\n",
       "data:  colegioy$DiferencaNotas\n",
       "W = 0.87301, p-value = 0.001956\n"
      ]
     },
     "metadata": {},
     "output_type": "display_data"
    }
   ],
   "source": [
    "colegioy$DiferencaNotas <- colegioy$NOTA_COMP1 - colegioy$NOTA_COMP4\n",
    "shapiro.test(colegioy$DiferencaNotas)"
   ]
  },
  {
   "cell_type": "code",
   "execution_count": 8,
   "id": "17e7a621",
   "metadata": {},
   "outputs": [
    {
     "data": {
      "text/plain": [
       "\n",
       "\tShapiro-Wilk normality test\n",
       "\n",
       "data:  colegioy$DiferencaNotas\n",
       "W = 0.88511, p-value = 0.003702\n"
      ]
     },
     "metadata": {},
     "output_type": "display_data"
    }
   ],
   "source": [
    "colegioy$DiferencaNotas <- colegioy$NOTA_COMP1 - colegioy$NOTA_COMP5\n",
    "shapiro.test(colegioy$DiferencaNotas)"
   ]
  },
  {
   "cell_type": "code",
   "execution_count": 9,
   "id": "d09287c1",
   "metadata": {},
   "outputs": [
    {
     "data": {
      "text/plain": [
       "\n",
       "\tShapiro-Wilk normality test\n",
       "\n",
       "data:  colegioy$DiferencaNotas\n",
       "W = 0.89393, p-value = 0.005987\n"
      ]
     },
     "metadata": {},
     "output_type": "display_data"
    }
   ],
   "source": [
    "colegioy$DiferencaNotas <- colegioy$NOTA_COMP2 - colegioy$NOTA_COMP3\n",
    "shapiro.test(colegioy$DiferencaNotas)"
   ]
  },
  {
   "cell_type": "code",
   "execution_count": 10,
   "id": "75a1a795",
   "metadata": {},
   "outputs": [
    {
     "data": {
      "text/plain": [
       "\n",
       "\tShapiro-Wilk normality test\n",
       "\n",
       "data:  colegioy$DiferencaNotas\n",
       "W = 0.93042, p-value = 0.05039\n"
      ]
     },
     "metadata": {},
     "output_type": "display_data"
    }
   ],
   "source": [
    "colegioy$DiferencaNotas <- colegioy$NOTA_COMP2 - colegioy$NOTA_COMP4\n",
    "shapiro.test(colegioy$DiferencaNotas)"
   ]
  },
  {
   "cell_type": "code",
   "execution_count": 11,
   "id": "6c745a81",
   "metadata": {},
   "outputs": [
    {
     "data": {
      "text/plain": [
       "\n",
       "\tShapiro-Wilk normality test\n",
       "\n",
       "data:  colegioy$DiferencaNotas\n",
       "W = 0.95119, p-value = 0.1819\n"
      ]
     },
     "metadata": {},
     "output_type": "display_data"
    }
   ],
   "source": [
    "colegioy$DiferencaNotas <- colegioy$NOTA_COMP2 - colegioy$NOTA_COMP5\n",
    "shapiro.test(colegioy$DiferencaNotas)"
   ]
  },
  {
   "cell_type": "code",
   "execution_count": 12,
   "id": "2b430b9f",
   "metadata": {},
   "outputs": [
    {
     "data": {
      "text/plain": [
       "\n",
       "\tShapiro-Wilk normality test\n",
       "\n",
       "data:  colegioy$DiferencaNotas\n",
       "W = 0.7914, p-value = 4.588e-05\n"
      ]
     },
     "metadata": {},
     "output_type": "display_data"
    }
   ],
   "source": [
    "colegioy$DiferencaNotas <- colegioy$NOTA_COMP3 - colegioy$NOTA_COMP4\n",
    "shapiro.test(colegioy$DiferencaNotas)"
   ]
  },
  {
   "cell_type": "code",
   "execution_count": 13,
   "id": "663f2d4b",
   "metadata": {},
   "outputs": [
    {
     "data": {
      "text/plain": [
       "\n",
       "\tShapiro-Wilk normality test\n",
       "\n",
       "data:  colegioy$DiferencaNotas\n",
       "W = 0.9577, p-value = 0.2702\n"
      ]
     },
     "metadata": {},
     "output_type": "display_data"
    }
   ],
   "source": [
    "colegioy$DiferencaNotas <- colegioy$NOTA_COMP3 - colegioy$NOTA_COMP5\n",
    "shapiro.test(colegioy$DiferencaNotas)"
   ]
  },
  {
   "cell_type": "code",
   "execution_count": 14,
   "id": "281d7377",
   "metadata": {},
   "outputs": [
    {
     "data": {
      "text/plain": [
       "\n",
       "\tShapiro-Wilk normality test\n",
       "\n",
       "data:  colegioy$DiferencaNotas\n",
       "W = 0.90702, p-value = 0.01253\n"
      ]
     },
     "metadata": {},
     "output_type": "display_data"
    }
   ],
   "source": [
    "colegioy$DiferencaNotas <- colegioy$NOTA_COMP4 - colegioy$NOTA_COMP5\n",
    "shapiro.test(colegioy$DiferencaNotas)"
   ]
  },
  {
   "cell_type": "markdown",
   "id": "2a5bec86",
   "metadata": {},
   "source": [
    "As combinações aprovadas pelo teste de normalidade foram:\n",
    "\n",
    "- NOTA_COMP2 com NOTA_COMP4;\n",
    "- NOTA_COMP2 com NOTA_COMP5;\n",
    "- NOTA_COMP3 com NOTA_COMP5."
   ]
  },
  {
   "cell_type": "markdown",
   "id": "6a1b96e4",
   "metadata": {},
   "source": [
    "# 2.0 Teste T Pareado"
   ]
  },
  {
   "cell_type": "markdown",
   "id": "0648897f",
   "metadata": {},
   "source": [
    "Nível de significância de 5%\n",
    "\n",
    "- Ho = não há diferença entre as médias : p > 0.05\n",
    "- Ha = há diferença entre as médias : p <= 0.05"
   ]
  },
  {
   "cell_type": "code",
   "execution_count": 15,
   "id": "389e67ee",
   "metadata": {},
   "outputs": [
    {
     "data": {
      "text/plain": [
       "\n",
       "\tPaired t-test\n",
       "\n",
       "data:  colegioy$NOTA_COMP2 and colegioy$NOTA_COMP4\n",
       "t = -0.72351, df = 29, p-value = 0.4752\n",
       "alternative hypothesis: true difference in means is not equal to 0\n",
       "95 percent confidence interval:\n",
       " -12.756062   6.089396\n",
       "sample estimates:\n",
       "mean of the differences \n",
       "              -3.333333 \n"
      ]
     },
     "metadata": {},
     "output_type": "display_data"
    }
   ],
   "source": [
    "t.test(colegioy$NOTA_COMP2, colegioy$NOTA_COMP4, paired=TRUE)"
   ]
  },
  {
   "cell_type": "markdown",
   "id": "8e89a93b",
   "metadata": {},
   "source": [
    "**Conclusão:** Não há diferença entre as médias, com um intervalo de confiança de 95%."
   ]
  },
  {
   "cell_type": "code",
   "execution_count": 16,
   "id": "127326c9",
   "metadata": {},
   "outputs": [
    {
     "data": {
      "text/plain": [
       "\n",
       "\tPaired t-test\n",
       "\n",
       "data:  colegioy$NOTA_COMP2 and colegioy$NOTA_COMP5\n",
       "t = -0.22003, df = 29, p-value = 0.8274\n",
       "alternative hypothesis: true difference in means is not equal to 0\n",
       "95 percent confidence interval:\n",
       " -13.72687  11.06020\n",
       "sample estimates:\n",
       "mean of the differences \n",
       "              -1.333333 \n"
      ]
     },
     "metadata": {},
     "output_type": "display_data"
    }
   ],
   "source": [
    "t.test(colegioy$NOTA_COMP2, colegioy$NOTA_COMP5, paired=TRUE)"
   ]
  },
  {
   "cell_type": "markdown",
   "id": "9632b68e",
   "metadata": {},
   "source": [
    "**Conclusão:** Não há diferença entre as médias, com um intervalo de confiança de 95%."
   ]
  },
  {
   "cell_type": "code",
   "execution_count": 17,
   "id": "25209749",
   "metadata": {},
   "outputs": [
    {
     "data": {
      "text/plain": [
       "\n",
       "\tPaired t-test\n",
       "\n",
       "data:  colegioy$NOTA_COMP3 and colegioy$NOTA_COMP5\n",
       "t = -0.47186, df = 29, p-value = 0.6406\n",
       "alternative hypothesis: true difference in means is not equal to 0\n",
       "95 percent confidence interval:\n",
       " -14.225145   8.891812\n",
       "sample estimates:\n",
       "mean of the differences \n",
       "              -2.666667 \n"
      ]
     },
     "metadata": {},
     "output_type": "display_data"
    }
   ],
   "source": [
    "t.test(colegioy$NOTA_COMP3, colegioy$NOTA_COMP5, paired=TRUE)"
   ]
  },
  {
   "cell_type": "markdown",
   "id": "6a14ed3d",
   "metadata": {},
   "source": [
    "**Conclusão:** Não há diferença entre as médias, com um intervalo de confiança de 95%."
   ]
  }
 ],
 "metadata": {
  "kernelspec": {
   "display_name": "R",
   "language": "R",
   "name": "ir"
  },
  "language_info": {
   "codemirror_mode": "r",
   "file_extension": ".r",
   "mimetype": "text/x-r-source",
   "name": "R",
   "pygments_lexer": "r",
   "version": "4.1.1"
  }
 },
 "nbformat": 4,
 "nbformat_minor": 5
}
