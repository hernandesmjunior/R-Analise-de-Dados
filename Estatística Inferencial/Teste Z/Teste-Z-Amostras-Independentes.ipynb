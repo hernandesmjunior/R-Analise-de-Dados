{
 "cells": [
  {
   "cell_type": "markdown",
   "id": "d8a198aa",
   "metadata": {},
   "source": [
    "# TESTE Z PARA DUAS AMOSTRAS INDEPENDENTES\n",
    "\n",
    "Analisar a diferença entre as notas de homens e mulheres de um colégio."
   ]
  },
  {
   "cell_type": "markdown",
   "id": "a064f419",
   "metadata": {},
   "source": [
    "# 0.0 Importações"
   ]
  },
  {
   "cell_type": "code",
   "execution_count": 1,
   "id": "361564e4",
   "metadata": {},
   "outputs": [
    {
     "name": "stderr",
     "output_type": "stream",
     "text": [
      "\n",
      "Attaching package: 'dplyr'\n",
      "\n",
      "\n",
      "The following objects are masked from 'package:stats':\n",
      "\n",
      "    filter, lag\n",
      "\n",
      "\n",
      "The following objects are masked from 'package:base':\n",
      "\n",
      "    intersect, setdiff, setequal, union\n",
      "\n",
      "\n",
      "*** Package RVAideMemoire v 0.9-80 ***\n",
      "\n",
      "Carregando pacotes exigidos: lattice\n",
      "\n",
      "\n",
      "Attaching package: 'BSDA'\n",
      "\n",
      "\n",
      "The following object is masked from 'package:datasets':\n",
      "\n",
      "    Orange\n",
      "\n",
      "\n"
     ]
    }
   ],
   "source": [
    "library(dplyr)\n",
    "library(RVAideMemoire) # teste de shapiro por grupo\n",
    "library(BSDA)"
   ]
  },
  {
   "cell_type": "markdown",
   "id": "07a4c145",
   "metadata": {},
   "source": [
    "# 0.1 Dataset"
   ]
  },
  {
   "cell_type": "code",
   "execution_count": 4,
   "id": "ac940148",
   "metadata": {},
   "outputs": [],
   "source": [
    "enem2019_tratado <- read.csv('data/enem2019_tratado.csv', sep=',')"
   ]
  },
  {
   "cell_type": "code",
   "execution_count": 5,
   "id": "3e24925f",
   "metadata": {},
   "outputs": [
    {
     "data": {
      "text/html": [
       "<table class=\"dataframe\">\n",
       "<caption>A data.frame: 6 × 25</caption>\n",
       "<thead>\n",
       "\t<tr><th></th><th scope=col>NU_INSCRICAO</th><th scope=col>NO_MUNICIPIO_RESIDENCIA</th><th scope=col>NU_IDADE</th><th scope=col>TP_SEXO</th><th scope=col>TP_COR_RACA</th><th scope=col>TP_NACIONALIDADE</th><th scope=col>TP_ESCOLA</th><th scope=col>TP_ENSINO</th><th scope=col>CO_ESCOLA</th><th scope=col>TP_PRESENCA_CN</th><th scope=col>⋯</th><th scope=col>NOTA_LC</th><th scope=col>NOTA_MT</th><th scope=col>TP_LINGUA</th><th scope=col>TP_STATUS_REDACAO</th><th scope=col>NOTA_COMP1</th><th scope=col>NOTA_COMP2</th><th scope=col>NOTA_COMP3</th><th scope=col>NOTA_COMP4</th><th scope=col>NOTA_COMP5</th><th scope=col>NOTA_REDACAO</th></tr>\n",
       "\t<tr><th></th><th scope=col>&lt;dbl&gt;</th><th scope=col>&lt;chr&gt;</th><th scope=col>&lt;int&gt;</th><th scope=col>&lt;chr&gt;</th><th scope=col>&lt;int&gt;</th><th scope=col>&lt;int&gt;</th><th scope=col>&lt;int&gt;</th><th scope=col>&lt;int&gt;</th><th scope=col>&lt;int&gt;</th><th scope=col>&lt;int&gt;</th><th scope=col>⋯</th><th scope=col>&lt;dbl&gt;</th><th scope=col>&lt;dbl&gt;</th><th scope=col>&lt;int&gt;</th><th scope=col>&lt;int&gt;</th><th scope=col>&lt;int&gt;</th><th scope=col>&lt;int&gt;</th><th scope=col>&lt;int&gt;</th><th scope=col>&lt;int&gt;</th><th scope=col>&lt;int&gt;</th><th scope=col>&lt;int&gt;</th></tr>\n",
       "</thead>\n",
       "<tbody>\n",
       "\t<tr><th scope=row>1</th><td>190001017053</td><td>Santa Isabel         </td><td>22</td><td>M</td><td>3</td><td>1</td><td>1</td><td> 1</td><td>      NA</td><td>1</td><td>⋯</td><td>592.9</td><td>600.2</td><td>0</td><td>1</td><td>160</td><td>200</td><td>180</td><td>200</td><td>200</td><td>940</td></tr>\n",
       "\t<tr><th scope=row>2</th><td>190001019850</td><td>São Paulo            </td><td>17</td><td>F</td><td>3</td><td>1</td><td>3</td><td> 1</td><td>15567761</td><td>1</td><td>⋯</td><td>634.3</td><td>731.8</td><td>0</td><td>1</td><td>160</td><td>120</td><td>200</td><td>200</td><td>200</td><td>880</td></tr>\n",
       "\t<tr><th scope=row>3</th><td>190001024874</td><td>São Bernardo do Campo</td><td>19</td><td>M</td><td>3</td><td>1</td><td>2</td><td> 1</td><td>35904958</td><td>1</td><td>⋯</td><td>509.6</td><td>393.2</td><td>1</td><td>1</td><td> 80</td><td>160</td><td>120</td><td>100</td><td>100</td><td>560</td></tr>\n",
       "\t<tr><th scope=row>4</th><td>190001031050</td><td>Embu-Guaçu           </td><td>17</td><td>F</td><td>3</td><td>1</td><td>2</td><td> 1</td><td>      NA</td><td>1</td><td>⋯</td><td>487.2</td><td>419.2</td><td>0</td><td>1</td><td>120</td><td>120</td><td>120</td><td>120</td><td> 80</td><td>560</td></tr>\n",
       "\t<tr><th scope=row>5</th><td>190001045429</td><td>Guarulhos            </td><td>23</td><td>F</td><td>1</td><td>1</td><td>1</td><td>NA</td><td>      NA</td><td>1</td><td>⋯</td><td>629.3</td><td>796.1</td><td>0</td><td>1</td><td>160</td><td>200</td><td>180</td><td>180</td><td>160</td><td>880</td></tr>\n",
       "\t<tr><th scope=row>6</th><td>190001050482</td><td>São José do Rio Preto</td><td>18</td><td>F</td><td>1</td><td>1</td><td>2</td><td> 1</td><td>35028927</td><td>1</td><td>⋯</td><td>555.9</td><td>612.8</td><td>1</td><td>1</td><td>120</td><td>160</td><td>120</td><td> 80</td><td>100</td><td>580</td></tr>\n",
       "</tbody>\n",
       "</table>\n"
      ],
      "text/latex": [
       "A data.frame: 6 × 25\n",
       "\\begin{tabular}{r|lllllllllllllllllllll}\n",
       "  & NU\\_INSCRICAO & NO\\_MUNICIPIO\\_RESIDENCIA & NU\\_IDADE & TP\\_SEXO & TP\\_COR\\_RACA & TP\\_NACIONALIDADE & TP\\_ESCOLA & TP\\_ENSINO & CO\\_ESCOLA & TP\\_PRESENCA\\_CN & ⋯ & NOTA\\_LC & NOTA\\_MT & TP\\_LINGUA & TP\\_STATUS\\_REDACAO & NOTA\\_COMP1 & NOTA\\_COMP2 & NOTA\\_COMP3 & NOTA\\_COMP4 & NOTA\\_COMP5 & NOTA\\_REDACAO\\\\\n",
       "  & <dbl> & <chr> & <int> & <chr> & <int> & <int> & <int> & <int> & <int> & <int> & ⋯ & <dbl> & <dbl> & <int> & <int> & <int> & <int> & <int> & <int> & <int> & <int>\\\\\n",
       "\\hline\n",
       "\t1 & 190001017053 & Santa Isabel          & 22 & M & 3 & 1 & 1 &  1 &       NA & 1 & ⋯ & 592.9 & 600.2 & 0 & 1 & 160 & 200 & 180 & 200 & 200 & 940\\\\\n",
       "\t2 & 190001019850 & São Paulo             & 17 & F & 3 & 1 & 3 &  1 & 15567761 & 1 & ⋯ & 634.3 & 731.8 & 0 & 1 & 160 & 120 & 200 & 200 & 200 & 880\\\\\n",
       "\t3 & 190001024874 & São Bernardo do Campo & 19 & M & 3 & 1 & 2 &  1 & 35904958 & 1 & ⋯ & 509.6 & 393.2 & 1 & 1 &  80 & 160 & 120 & 100 & 100 & 560\\\\\n",
       "\t4 & 190001031050 & Embu-Guaçu            & 17 & F & 3 & 1 & 2 &  1 &       NA & 1 & ⋯ & 487.2 & 419.2 & 0 & 1 & 120 & 120 & 120 & 120 &  80 & 560\\\\\n",
       "\t5 & 190001045429 & Guarulhos             & 23 & F & 1 & 1 & 1 & NA &       NA & 1 & ⋯ & 629.3 & 796.1 & 0 & 1 & 160 & 200 & 180 & 180 & 160 & 880\\\\\n",
       "\t6 & 190001050482 & São José do Rio Preto & 18 & F & 1 & 1 & 2 &  1 & 35028927 & 1 & ⋯ & 555.9 & 612.8 & 1 & 1 & 120 & 160 & 120 &  80 & 100 & 580\\\\\n",
       "\\end{tabular}\n"
      ],
      "text/markdown": [
       "\n",
       "A data.frame: 6 × 25\n",
       "\n",
       "| <!--/--> | NU_INSCRICAO &lt;dbl&gt; | NO_MUNICIPIO_RESIDENCIA &lt;chr&gt; | NU_IDADE &lt;int&gt; | TP_SEXO &lt;chr&gt; | TP_COR_RACA &lt;int&gt; | TP_NACIONALIDADE &lt;int&gt; | TP_ESCOLA &lt;int&gt; | TP_ENSINO &lt;int&gt; | CO_ESCOLA &lt;int&gt; | TP_PRESENCA_CN &lt;int&gt; | ⋯ ⋯ | NOTA_LC &lt;dbl&gt; | NOTA_MT &lt;dbl&gt; | TP_LINGUA &lt;int&gt; | TP_STATUS_REDACAO &lt;int&gt; | NOTA_COMP1 &lt;int&gt; | NOTA_COMP2 &lt;int&gt; | NOTA_COMP3 &lt;int&gt; | NOTA_COMP4 &lt;int&gt; | NOTA_COMP5 &lt;int&gt; | NOTA_REDACAO &lt;int&gt; |\n",
       "|---|---|---|---|---|---|---|---|---|---|---|---|---|---|---|---|---|---|---|---|---|---|\n",
       "| 1 | 190001017053 | Santa Isabel          | 22 | M | 3 | 1 | 1 |  1 |       NA | 1 | ⋯ | 592.9 | 600.2 | 0 | 1 | 160 | 200 | 180 | 200 | 200 | 940 |\n",
       "| 2 | 190001019850 | São Paulo             | 17 | F | 3 | 1 | 3 |  1 | 15567761 | 1 | ⋯ | 634.3 | 731.8 | 0 | 1 | 160 | 120 | 200 | 200 | 200 | 880 |\n",
       "| 3 | 190001024874 | São Bernardo do Campo | 19 | M | 3 | 1 | 2 |  1 | 35904958 | 1 | ⋯ | 509.6 | 393.2 | 1 | 1 |  80 | 160 | 120 | 100 | 100 | 560 |\n",
       "| 4 | 190001031050 | Embu-Guaçu            | 17 | F | 3 | 1 | 2 |  1 |       NA | 1 | ⋯ | 487.2 | 419.2 | 0 | 1 | 120 | 120 | 120 | 120 |  80 | 560 |\n",
       "| 5 | 190001045429 | Guarulhos             | 23 | F | 1 | 1 | 1 | NA |       NA | 1 | ⋯ | 629.3 | 796.1 | 0 | 1 | 160 | 200 | 180 | 180 | 160 | 880 |\n",
       "| 6 | 190001050482 | São José do Rio Preto | 18 | F | 1 | 1 | 2 |  1 | 35028927 | 1 | ⋯ | 555.9 | 612.8 | 1 | 1 | 120 | 160 | 120 |  80 | 100 | 580 |\n",
       "\n"
      ],
      "text/plain": [
       "  NU_INSCRICAO NO_MUNICIPIO_RESIDENCIA NU_IDADE TP_SEXO TP_COR_RACA\n",
       "1 190001017053 Santa Isabel            22       M       3          \n",
       "2 190001019850 São Paulo               17       F       3          \n",
       "3 190001024874 São Bernardo do Campo   19       M       3          \n",
       "4 190001031050 Embu-Guaçu              17       F       3          \n",
       "5 190001045429 Guarulhos               23       F       1          \n",
       "6 190001050482 São José do Rio Preto   18       F       1          \n",
       "  TP_NACIONALIDADE TP_ESCOLA TP_ENSINO CO_ESCOLA TP_PRESENCA_CN <U+22EF>       \n",
       "1 1                1          1              NA  1              <U+22EF>\n",
       "2 1                3          1        15567761  1              <U+22EF>\n",
       "3 1                2          1        35904958  1              <U+22EF>\n",
       "4 1                2          1              NA  1              <U+22EF>\n",
       "5 1                1         NA              NA  1              <U+22EF>\n",
       "6 1                2          1        35028927  1              <U+22EF>\n",
       "  NOTA_LC NOTA_MT TP_LINGUA TP_STATUS_REDACAO NOTA_COMP1 NOTA_COMP2 NOTA_COMP3\n",
       "1 592.9   600.2   0         1                 160        200        180       \n",
       "2 634.3   731.8   0         1                 160        120        200       \n",
       "3 509.6   393.2   1         1                  80        160        120       \n",
       "4 487.2   419.2   0         1                 120        120        120       \n",
       "5 629.3   796.1   0         1                 160        200        180       \n",
       "6 555.9   612.8   1         1                 120        160        120       \n",
       "  NOTA_COMP4 NOTA_COMP5 NOTA_REDACAO\n",
       "1 200        200        940         \n",
       "2 200        200        880         \n",
       "3 100        100        560         \n",
       "4 120         80        560         \n",
       "5 180        160        880         \n",
       "6  80        100        580         "
      ]
     },
     "metadata": {},
     "output_type": "display_data"
    }
   ],
   "source": [
    "head(enem2019_tratado)"
   ]
  },
  {
   "cell_type": "code",
   "execution_count": 7,
   "id": "25286bf4",
   "metadata": {},
   "outputs": [],
   "source": [
    "colegiox <- enem2019_tratado %>% filter(CO_ESCOLA==\"35132287\")"
   ]
  },
  {
   "cell_type": "code",
   "execution_count": 10,
   "id": "86fb1029",
   "metadata": {},
   "outputs": [
    {
     "data": {
      "text/html": [
       "130"
      ],
      "text/latex": [
       "130"
      ],
      "text/markdown": [
       "130"
      ],
      "text/plain": [
       "[1] 130"
      ]
     },
     "metadata": {},
     "output_type": "display_data"
    }
   ],
   "source": [
    "nrow(colegiox)"
   ]
  },
  {
   "cell_type": "markdown",
   "id": "d368bdde",
   "metadata": {},
   "source": [
    "# 1.0 Teste de Normalidade"
   ]
  },
  {
   "cell_type": "markdown",
   "id": "0f378d79",
   "metadata": {},
   "source": [
    "Nível de significância de 5%\n",
    "\n",
    "- Ho = distribuição normal : p > 0.05\n",
    "- Ha = distribuição não normal : p <= 0.05"
   ]
  },
  {
   "cell_type": "code",
   "execution_count": 8,
   "id": "3be041c4",
   "metadata": {},
   "outputs": [
    {
     "data": {
      "text/plain": [
       "\n",
       "\tShapiro-Wilk normality tests\n",
       "\n",
       "data:  NOTA_CN by TP_SEXO \n",
       "\n",
       "       W p-value  \n",
       "F 0.9640 0.05273 .\n",
       "M 0.9892 0.84933  \n",
       "---\n",
       "Signif. codes:  0 '***' 0.001 '**' 0.01 '*' 0.05 '.' 0.1 ' ' 1\n"
      ]
     },
     "metadata": {},
     "output_type": "display_data"
    }
   ],
   "source": [
    "byf.shapiro(NOTA_CN ~ TP_SEXO, colegiox)"
   ]
  },
  {
   "cell_type": "code",
   "execution_count": 9,
   "id": "14a4f55e",
   "metadata": {},
   "outputs": [
    {
     "data": {
      "text/plain": [
       "\n",
       "\tShapiro-Wilk normality tests\n",
       "\n",
       "data:  NOTA_CH by TP_SEXO \n",
       "\n",
       "       W p-value\n",
       "F 0.9768  0.2522\n",
       "M 0.9737  0.1883\n"
      ]
     },
     "metadata": {},
     "output_type": "display_data"
    }
   ],
   "source": [
    "byf.shapiro(NOTA_CH ~ TP_SEXO, colegiox)"
   ]
  },
  {
   "cell_type": "code",
   "execution_count": 11,
   "id": "4216f027",
   "metadata": {},
   "outputs": [
    {
     "data": {
      "text/plain": [
       "\n",
       "\tShapiro-Wilk normality tests\n",
       "\n",
       "data:  NOTA_LC by TP_SEXO \n",
       "\n",
       "       W p-value\n",
       "F 0.9897  0.8605\n",
       "M 0.9747  0.2107\n"
      ]
     },
     "metadata": {},
     "output_type": "display_data"
    }
   ],
   "source": [
    "byf.shapiro(NOTA_LC ~ TP_SEXO, colegiox)"
   ]
  },
  {
   "cell_type": "code",
   "execution_count": 12,
   "id": "0ec43c2d",
   "metadata": {},
   "outputs": [
    {
     "data": {
      "text/plain": [
       "\n",
       "\tShapiro-Wilk normality tests\n",
       "\n",
       "data:  NOTA_MT by TP_SEXO \n",
       "\n",
       "       W p-value\n",
       "F 0.9820  0.4520\n",
       "M 0.9817  0.4609\n"
      ]
     },
     "metadata": {},
     "output_type": "display_data"
    }
   ],
   "source": [
    "byf.shapiro(NOTA_MT ~ TP_SEXO, colegiox)"
   ]
  },
  {
   "cell_type": "code",
   "execution_count": 13,
   "id": "6541956f",
   "metadata": {},
   "outputs": [
    {
     "data": {
      "text/plain": [
       "\n",
       "\tShapiro-Wilk normality tests\n",
       "\n",
       "data:  NOTA_REDACAO by TP_SEXO \n",
       "\n",
       "       W   p-value    \n",
       "F 0.8559 1.853e-06 ***\n",
       "M 0.9436  0.005584 ** \n",
       "---\n",
       "Signif. codes:  0 '***' 0.001 '**' 0.01 '*' 0.05 '.' 0.1 ' ' 1\n"
      ]
     },
     "metadata": {},
     "output_type": "display_data"
    }
   ],
   "source": [
    "byf.shapiro(NOTA_REDACAO ~ TP_SEXO, colegiox)"
   ]
  },
  {
   "cell_type": "markdown",
   "id": "94359ffb",
   "metadata": {},
   "source": [
    "**Conclusão:** A nota de redação não passou no teste de normalidade, portanto não será utilizada no teste Z."
   ]
  },
  {
   "cell_type": "markdown",
   "id": "092b7fce",
   "metadata": {},
   "source": [
    "#### Separando o dataset"
   ]
  },
  {
   "cell_type": "code",
   "execution_count": 14,
   "id": "af868c48",
   "metadata": {},
   "outputs": [],
   "source": [
    "colegiox_mulher <- colegiox %>% filter(TP_SEXO==\"F\")\n",
    "colegiox_homem <- colegiox %>% filter(TP_SEXO==\"M\")"
   ]
  },
  {
   "cell_type": "markdown",
   "id": "a58b96b8",
   "metadata": {},
   "source": [
    "# 2.0 Teste Z para amostras independentes"
   ]
  },
  {
   "cell_type": "markdown",
   "id": "490a55e2",
   "metadata": {},
   "source": [
    "Nível de significância de 5%\n",
    "\n",
    "- Ho = não há diferença entre as notas : p > 0.05\n",
    "- Ha = há diferença entre as notas : p <= 0.05\n"
   ]
  },
  {
   "cell_type": "markdown",
   "id": "ec0d8976",
   "metadata": {},
   "source": [
    "## 2.1 Ciências Naturais"
   ]
  },
  {
   "cell_type": "code",
   "execution_count": 15,
   "id": "bd4e9ab8",
   "metadata": {},
   "outputs": [
    {
     "data": {
      "text/plain": [
       "\n",
       "\tTwo-sample z-Test\n",
       "\n",
       "data:  colegiox_mulher$NOTA_CN and colegiox_homem$NOTA_CN\n",
       "z = -2.336, p-value = 0.01949\n",
       "alternative hypothesis: true difference in means is not equal to 0\n",
       "95 percent confidence interval:\n",
       " -44.023456  -3.853343\n",
       "sample estimates:\n",
       "mean of x mean of y \n",
       " 596.3788  620.3172 \n"
      ]
     },
     "metadata": {},
     "output_type": "display_data"
    }
   ],
   "source": [
    "sd_mulher = sd(colegiox_mulher$NOTA_CN)\n",
    "sd_homem = sd(colegiox_homem$NOTA_CN)\n",
    "\n",
    "z.test(colegiox_mulher$NOTA_CN, sigma.x=sd_mulher, colegiox_homem$NOTA_CN, sigma.y=sd_homem, alternative=\"t\")"
   ]
  },
  {
   "cell_type": "markdown",
   "id": "422a480c",
   "metadata": {},
   "source": [
    "## 2.2 Ciências Humanas"
   ]
  },
  {
   "cell_type": "code",
   "execution_count": 16,
   "id": "16ae5e0d",
   "metadata": {},
   "outputs": [
    {
     "data": {
      "text/plain": [
       "\n",
       "\tTwo-sample z-Test\n",
       "\n",
       "data:  colegiox_mulher$NOTA_CH and colegiox_homem$NOTA_CH\n",
       "z = 0.44746, p-value = 0.6545\n",
       "alternative hypothesis: true difference in means is not equal to 0\n",
       "95 percent confidence interval:\n",
       " -13.31350  21.19077\n",
       "sample estimates:\n",
       "mean of x mean of y \n",
       " 633.8636  629.9250 \n"
      ]
     },
     "metadata": {},
     "output_type": "display_data"
    }
   ],
   "source": [
    "sd_mulher = sd(colegiox_mulher$NOTA_CH)\n",
    "sd_homem = sd(colegiox_homem$NOTA_CH)\n",
    "\n",
    "z.test(colegiox_mulher$NOTA_CH, sigma.x=sd_mulher, colegiox_homem$NOTA_CH, sigma.y=sd_homem, alternative=\"t\")"
   ]
  },
  {
   "cell_type": "markdown",
   "id": "aa25d0a1",
   "metadata": {},
   "source": [
    "## 2.3 Linguagens e Códigos"
   ]
  },
  {
   "cell_type": "code",
   "execution_count": 17,
   "id": "1afd29db",
   "metadata": {},
   "outputs": [
    {
     "data": {
      "text/plain": [
       "\n",
       "\tTwo-sample z-Test\n",
       "\n",
       "data:  colegiox_mulher$NOTA_LC and colegiox_homem$NOTA_LC\n",
       "z = 2.1957, p-value = 0.02811\n",
       "alternative hypothesis: true difference in means is not equal to 0\n",
       "95 percent confidence interval:\n",
       "  1.382292 24.365814\n",
       "sample estimates:\n",
       "mean of x mean of y \n",
       " 610.5803  597.7062 \n"
      ]
     },
     "metadata": {},
     "output_type": "display_data"
    }
   ],
   "source": [
    "sd_mulher = sd(colegiox_mulher$NOTA_LC)\n",
    "sd_homem = sd(colegiox_homem$NOTA_LC)\n",
    "\n",
    "z.test(colegiox_mulher$NOTA_LC, sigma.x=sd_mulher, colegiox_homem$NOTA_LC, sigma.y=sd_homem, alternative=\"t\")"
   ]
  },
  {
   "cell_type": "markdown",
   "id": "094d3d66",
   "metadata": {},
   "source": [
    "## 2.4 Matemática"
   ]
  },
  {
   "cell_type": "code",
   "execution_count": 18,
   "id": "7fd216d3",
   "metadata": {},
   "outputs": [
    {
     "data": {
      "text/plain": [
       "\n",
       "\tTwo-sample z-Test\n",
       "\n",
       "data:  colegiox_mulher$NOTA_MT and colegiox_homem$NOTA_MT\n",
       "z = -2.4539, p-value = 0.01413\n",
       "alternative hypothesis: true difference in means is not equal to 0\n",
       "95 percent confidence interval:\n",
       " -63.667137  -7.124245\n",
       "sample estimates:\n",
       "mean of x mean of y \n",
       " 712.8621  748.2578 \n"
      ]
     },
     "metadata": {},
     "output_type": "display_data"
    }
   ],
   "source": [
    "sd_mulher = sd(colegiox_mulher$NOTA_MT)\n",
    "sd_homem = sd(colegiox_homem$NOTA_MT)\n",
    "\n",
    "z.test(colegiox_mulher$NOTA_MT, sigma.x=sd_mulher, colegiox_homem$NOTA_MT, sigma.y=sd_homem, alternative=\"t\")"
   ]
  },
  {
   "cell_type": "markdown",
   "id": "8bd2ba89",
   "metadata": {},
   "source": [
    "**Conclusão:** Pelo teste Z, não podemos afirmar, com um intervalo de confiança de 95%, que as médias das notas de Ciências Humanas são diferentes para homens e mulheres. Já as notas de Matemática, Ciências Naturais e Linguagens e Códigos apontam que existe essa diferença."
   ]
  }
 ],
 "metadata": {
  "kernelspec": {
   "display_name": "R",
   "language": "R",
   "name": "ir"
  },
  "language_info": {
   "codemirror_mode": "r",
   "file_extension": ".r",
   "mimetype": "text/x-r-source",
   "name": "R",
   "pygments_lexer": "r",
   "version": "4.1.1"
  }
 },
 "nbformat": 4,
 "nbformat_minor": 5
}
