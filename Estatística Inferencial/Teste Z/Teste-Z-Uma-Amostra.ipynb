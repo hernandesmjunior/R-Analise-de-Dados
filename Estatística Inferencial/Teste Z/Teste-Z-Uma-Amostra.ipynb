{
 "cells": [
  {
   "cell_type": "markdown",
   "id": "98e357b8",
   "metadata": {},
   "source": [
    "# TESTE Z COM UMA AMOSTRA\n",
    "\n",
    "### Hipótese: média das notas do colégio X é igual a média do Estado de São Paulo"
   ]
  },
  {
   "cell_type": "markdown",
   "id": "59a102a6",
   "metadata": {},
   "source": [
    "# 0.0 Importações"
   ]
  },
  {
   "cell_type": "markdown",
   "id": "d87fe77e",
   "metadata": {},
   "source": [
    "## 0.1 Bibliotecas"
   ]
  },
  {
   "cell_type": "code",
   "execution_count": 1,
   "id": "01aa053b",
   "metadata": {},
   "outputs": [
    {
     "name": "stderr",
     "output_type": "stream",
     "text": [
      "\n",
      "Attaching package: 'dplyr'\n",
      "\n",
      "The following objects are masked from 'package:stats':\n",
      "\n",
      "    filter, lag\n",
      "\n",
      "The following objects are masked from 'package:base':\n",
      "\n",
      "    intersect, setdiff, setequal, union\n",
      "\n",
      "Loading required package: lattice\n",
      "\n",
      "Attaching package: 'BSDA'\n",
      "\n",
      "The following object is masked from 'package:datasets':\n",
      "\n",
      "    Orange\n",
      "\n"
     ]
    }
   ],
   "source": [
    "library(dplyr)\n",
    "library(nortest) # teste de normalidade\n",
    "library(BSDA) # teste Z"
   ]
  },
  {
   "cell_type": "markdown",
   "id": "125d081e",
   "metadata": {},
   "source": [
    "## 0.2 Dataset"
   ]
  },
  {
   "cell_type": "code",
   "execution_count": 2,
   "id": "03c5e42e",
   "metadata": {},
   "outputs": [],
   "source": [
    "enem2019_tratado <- read.csv('data/enem2019_tratado.csv', sep=\",\")"
   ]
  },
  {
   "cell_type": "code",
   "execution_count": 3,
   "id": "85b072e7",
   "metadata": {},
   "outputs": [],
   "source": [
    "# filtrando a escola\n",
    "\n",
    "colegiox <- enem2019_tratado %>% filter(CO_ESCOLA==\"35132287\")"
   ]
  },
  {
   "cell_type": "code",
   "execution_count": 4,
   "id": "4a613acd",
   "metadata": {
    "scrolled": true
   },
   "outputs": [
    {
     "data": {
      "text/html": [
       "<table>\n",
       "<thead><tr><th scope=col>NU_INSCRICAO</th><th scope=col>NO_MUNICIPIO_RESIDENCIA</th><th scope=col>NU_IDADE</th><th scope=col>TP_SEXO</th><th scope=col>TP_COR_RACA</th><th scope=col>TP_NACIONALIDADE</th><th scope=col>TP_ESCOLA</th><th scope=col>TP_ENSINO</th><th scope=col>CO_ESCOLA</th><th scope=col>TP_PRESENCA_CN</th><th scope=col>...</th><th scope=col>NOTA_LC</th><th scope=col>NOTA_MT</th><th scope=col>TP_LINGUA</th><th scope=col>TP_STATUS_REDACAO</th><th scope=col>NOTA_COMP1</th><th scope=col>NOTA_COMP2</th><th scope=col>NOTA_COMP3</th><th scope=col>NOTA_COMP4</th><th scope=col>NOTA_COMP5</th><th scope=col>NOTA_REDACAO</th></tr></thead>\n",
       "<tbody>\n",
       "\t<tr><td>190001194936</td><td>São Paulo   </td><td>18          </td><td>F           </td><td>1           </td><td>1           </td><td>3           </td><td>1           </td><td>35132287    </td><td>1           </td><td>...         </td><td>597.4       </td><td>491.0       </td><td>0           </td><td>1           </td><td>160         </td><td>140         </td><td>140         </td><td>160         </td><td>160         </td><td>760         </td></tr>\n",
       "\t<tr><td>190001607733</td><td>São Paulo   </td><td>17          </td><td>M           </td><td>3           </td><td>1           </td><td>3           </td><td>1           </td><td>35132287    </td><td>1           </td><td>...         </td><td>616.9       </td><td>930.5       </td><td>0           </td><td>1           </td><td>180         </td><td>200         </td><td>200         </td><td>200         </td><td>140         </td><td>920         </td></tr>\n",
       "\t<tr><td>190001616799</td><td>São Paulo   </td><td>17          </td><td>F           </td><td>1           </td><td>1           </td><td>3           </td><td>1           </td><td>35132287    </td><td>1           </td><td>...         </td><td>601.9       </td><td>663.9       </td><td>0           </td><td>1           </td><td>160         </td><td>140         </td><td>160         </td><td>200         </td><td>120         </td><td>780         </td></tr>\n",
       "\t<tr><td>190001799312</td><td>São Paulo   </td><td>17          </td><td>F           </td><td>1           </td><td>1           </td><td>3           </td><td>1           </td><td>35132287    </td><td>1           </td><td>...         </td><td>599.2       </td><td>771.9       </td><td>0           </td><td>1           </td><td>140         </td><td>180         </td><td>160         </td><td>180         </td><td>140         </td><td>800         </td></tr>\n",
       "\t<tr><td>190001809044</td><td>São Paulo   </td><td>18          </td><td>F           </td><td>1           </td><td>1           </td><td>3           </td><td>1           </td><td>35132287    </td><td>1           </td><td>...         </td><td>627.7       </td><td>663.1       </td><td>0           </td><td>1           </td><td>160         </td><td>200         </td><td>200         </td><td>200         </td><td>200         </td><td>960         </td></tr>\n",
       "\t<tr><td>190001809366</td><td>São Paulo   </td><td>18          </td><td>F           </td><td>1           </td><td>1           </td><td>3           </td><td>1           </td><td>35132287    </td><td>1           </td><td>...         </td><td>589.9       </td><td>790.1       </td><td>0           </td><td>1           </td><td>160         </td><td>120         </td><td>160         </td><td>160         </td><td>180         </td><td>780         </td></tr>\n",
       "</tbody>\n",
       "</table>\n"
      ],
      "text/latex": [
       "\\begin{tabular}{r|lllllllllllllllllllllllll}\n",
       " NU\\_INSCRICAO & NO\\_MUNICIPIO\\_RESIDENCIA & NU\\_IDADE & TP\\_SEXO & TP\\_COR\\_RACA & TP\\_NACIONALIDADE & TP\\_ESCOLA & TP\\_ENSINO & CO\\_ESCOLA & TP\\_PRESENCA\\_CN & ... & NOTA\\_LC & NOTA\\_MT & TP\\_LINGUA & TP\\_STATUS\\_REDACAO & NOTA\\_COMP1 & NOTA\\_COMP2 & NOTA\\_COMP3 & NOTA\\_COMP4 & NOTA\\_COMP5 & NOTA\\_REDACAO\\\\\n",
       "\\hline\n",
       "\t 190001194936 & São Paulo    & 18           & F            & 1            & 1            & 3            & 1            & 35132287     & 1            & ...          & 597.4        & 491.0        & 0            & 1            & 160          & 140          & 140          & 160          & 160          & 760         \\\\\n",
       "\t 190001607733 & São Paulo    & 17           & M            & 3            & 1            & 3            & 1            & 35132287     & 1            & ...          & 616.9        & 930.5        & 0            & 1            & 180          & 200          & 200          & 200          & 140          & 920         \\\\\n",
       "\t 190001616799 & São Paulo    & 17           & F            & 1            & 1            & 3            & 1            & 35132287     & 1            & ...          & 601.9        & 663.9        & 0            & 1            & 160          & 140          & 160          & 200          & 120          & 780         \\\\\n",
       "\t 190001799312 & São Paulo    & 17           & F            & 1            & 1            & 3            & 1            & 35132287     & 1            & ...          & 599.2        & 771.9        & 0            & 1            & 140          & 180          & 160          & 180          & 140          & 800         \\\\\n",
       "\t 190001809044 & São Paulo    & 18           & F            & 1            & 1            & 3            & 1            & 35132287     & 1            & ...          & 627.7        & 663.1        & 0            & 1            & 160          & 200          & 200          & 200          & 200          & 960         \\\\\n",
       "\t 190001809366 & São Paulo    & 18           & F            & 1            & 1            & 3            & 1            & 35132287     & 1            & ...          & 589.9        & 790.1        & 0            & 1            & 160          & 120          & 160          & 160          & 180          & 780         \\\\\n",
       "\\end{tabular}\n"
      ],
      "text/markdown": [
       "\n",
       "| NU_INSCRICAO | NO_MUNICIPIO_RESIDENCIA | NU_IDADE | TP_SEXO | TP_COR_RACA | TP_NACIONALIDADE | TP_ESCOLA | TP_ENSINO | CO_ESCOLA | TP_PRESENCA_CN | ... | NOTA_LC | NOTA_MT | TP_LINGUA | TP_STATUS_REDACAO | NOTA_COMP1 | NOTA_COMP2 | NOTA_COMP3 | NOTA_COMP4 | NOTA_COMP5 | NOTA_REDACAO |\n",
       "|---|---|---|---|---|---|---|---|---|---|---|---|---|---|---|---|---|---|---|---|---|\n",
       "| 190001194936 | São Paulo    | 18           | F            | 1            | 1            | 3            | 1            | 35132287     | 1            | ...          | 597.4        | 491.0        | 0            | 1            | 160          | 140          | 140          | 160          | 160          | 760          |\n",
       "| 190001607733 | São Paulo    | 17           | M            | 3            | 1            | 3            | 1            | 35132287     | 1            | ...          | 616.9        | 930.5        | 0            | 1            | 180          | 200          | 200          | 200          | 140          | 920          |\n",
       "| 190001616799 | São Paulo    | 17           | F            | 1            | 1            | 3            | 1            | 35132287     | 1            | ...          | 601.9        | 663.9        | 0            | 1            | 160          | 140          | 160          | 200          | 120          | 780          |\n",
       "| 190001799312 | São Paulo    | 17           | F            | 1            | 1            | 3            | 1            | 35132287     | 1            | ...          | 599.2        | 771.9        | 0            | 1            | 140          | 180          | 160          | 180          | 140          | 800          |\n",
       "| 190001809044 | São Paulo    | 18           | F            | 1            | 1            | 3            | 1            | 35132287     | 1            | ...          | 627.7        | 663.1        | 0            | 1            | 160          | 200          | 200          | 200          | 200          | 960          |\n",
       "| 190001809366 | São Paulo    | 18           | F            | 1            | 1            | 3            | 1            | 35132287     | 1            | ...          | 589.9        | 790.1        | 0            | 1            | 160          | 120          | 160          | 160          | 180          | 780          |\n",
       "\n"
      ],
      "text/plain": [
       "  NU_INSCRICAO NO_MUNICIPIO_RESIDENCIA NU_IDADE TP_SEXO TP_COR_RACA\n",
       "1 190001194936 São Paulo               18       F       1          \n",
       "2 190001607733 São Paulo               17       M       3          \n",
       "3 190001616799 São Paulo               17       F       1          \n",
       "4 190001799312 São Paulo               17       F       1          \n",
       "5 190001809044 São Paulo               18       F       1          \n",
       "6 190001809366 São Paulo               18       F       1          \n",
       "  TP_NACIONALIDADE TP_ESCOLA TP_ENSINO CO_ESCOLA TP_PRESENCA_CN ... NOTA_LC\n",
       "1 1                3         1         35132287  1              ... 597.4  \n",
       "2 1                3         1         35132287  1              ... 616.9  \n",
       "3 1                3         1         35132287  1              ... 601.9  \n",
       "4 1                3         1         35132287  1              ... 599.2  \n",
       "5 1                3         1         35132287  1              ... 627.7  \n",
       "6 1                3         1         35132287  1              ... 589.9  \n",
       "  NOTA_MT TP_LINGUA TP_STATUS_REDACAO NOTA_COMP1 NOTA_COMP2 NOTA_COMP3\n",
       "1 491.0   0         1                 160        140        140       \n",
       "2 930.5   0         1                 180        200        200       \n",
       "3 663.9   0         1                 160        140        160       \n",
       "4 771.9   0         1                 140        180        160       \n",
       "5 663.1   0         1                 160        200        200       \n",
       "6 790.1   0         1                 160        120        160       \n",
       "  NOTA_COMP4 NOTA_COMP5 NOTA_REDACAO\n",
       "1 160        160        760         \n",
       "2 200        140        920         \n",
       "3 200        120        780         \n",
       "4 180        140        800         \n",
       "5 200        200        960         \n",
       "6 160        180        780         "
      ]
     },
     "metadata": {},
     "output_type": "display_data"
    }
   ],
   "source": [
    "head(colegiox)"
   ]
  },
  {
   "cell_type": "markdown",
   "id": "305dd093",
   "metadata": {},
   "source": [
    "# 1.0 Descrição dos Dados"
   ]
  },
  {
   "cell_type": "markdown",
   "id": "981283ba",
   "metadata": {},
   "source": [
    "## 1.1 Tipagem e valores ausentes"
   ]
  },
  {
   "cell_type": "code",
   "execution_count": 5,
   "id": "dc17b5b3",
   "metadata": {},
   "outputs": [
    {
     "name": "stdout",
     "output_type": "stream",
     "text": [
      "'data.frame':\t130 obs. of  25 variables:\n",
      " $ NU_INSCRICAO           : num  1.9e+11 1.9e+11 1.9e+11 1.9e+11 1.9e+11 ...\n",
      " $ NO_MUNICIPIO_RESIDENCIA: Factor w/ 645 levels \"Adamantina\",\"Adolfo\",..: 565 565 565 565 565 565 565 565 565 565 ...\n",
      " $ NU_IDADE               : int  18 17 17 17 18 18 18 17 17 17 ...\n",
      " $ TP_SEXO                : Factor w/ 2 levels \"F\",\"M\": 1 2 1 1 1 1 2 1 1 2 ...\n",
      " $ TP_COR_RACA            : int  1 3 1 1 1 1 1 2 4 1 ...\n",
      " $ TP_NACIONALIDADE       : int  1 1 1 1 1 1 1 2 1 1 ...\n",
      " $ TP_ESCOLA              : int  3 3 3 3 3 3 3 3 3 3 ...\n",
      " $ TP_ENSINO              : int  1 1 1 1 1 1 1 1 1 1 ...\n",
      " $ CO_ESCOLA              : int  35132287 35132287 35132287 35132287 35132287 35132287 35132287 35132287 35132287 35132287 ...\n",
      " $ TP_PRESENCA_CN         : int  1 1 1 1 1 1 1 1 1 1 ...\n",
      " $ TP_PRESENCA_CH         : int  1 1 1 1 1 1 1 1 1 1 ...\n",
      " $ TP_PRESENCA_LC         : int  1 1 1 1 1 1 1 1 1 1 ...\n",
      " $ TP_PRESENCA_MT         : int  1 1 1 1 1 1 1 1 1 1 ...\n",
      " $ NOTA_CN                : num  586 769 652 565 586 ...\n",
      " $ NOTA_CH                : num  626 634 647 553 615 ...\n",
      " $ NOTA_LC                : num  597 617 602 599 628 ...\n",
      " $ NOTA_MT                : num  491 930 664 772 663 ...\n",
      " $ TP_LINGUA              : int  0 0 0 0 0 0 0 0 0 0 ...\n",
      " $ TP_STATUS_REDACAO      : int  1 1 1 1 1 1 1 1 1 1 ...\n",
      " $ NOTA_COMP1             : int  160 180 160 140 160 160 160 140 160 140 ...\n",
      " $ NOTA_COMP2             : int  140 200 140 180 200 120 160 200 200 120 ...\n",
      " $ NOTA_COMP3             : int  140 200 160 160 200 160 160 160 200 140 ...\n",
      " $ NOTA_COMP4             : int  160 200 200 180 200 160 140 180 200 120 ...\n",
      " $ NOTA_COMP5             : int  160 140 120 140 200 180 180 180 200 160 ...\n",
      " $ NOTA_REDACAO           : int  760 920 780 800 960 780 800 860 960 680 ...\n"
     ]
    }
   ],
   "source": [
    "# verificando os tipos dos dados\n",
    "\n",
    "str(colegiox)"
   ]
  },
  {
   "cell_type": "code",
   "execution_count": 6,
   "id": "ed24e20b",
   "metadata": {},
   "outputs": [
    {
     "data": {
      "text/html": [
       "<dl class=dl-horizontal>\n",
       "\t<dt>NU_INSCRICAO</dt>\n",
       "\t\t<dd>0</dd>\n",
       "\t<dt>NO_MUNICIPIO_RESIDENCIA</dt>\n",
       "\t\t<dd>0</dd>\n",
       "\t<dt>NU_IDADE</dt>\n",
       "\t\t<dd>0</dd>\n",
       "\t<dt>TP_SEXO</dt>\n",
       "\t\t<dd>0</dd>\n",
       "\t<dt>TP_COR_RACA</dt>\n",
       "\t\t<dd>0</dd>\n",
       "\t<dt>TP_NACIONALIDADE</dt>\n",
       "\t\t<dd>0</dd>\n",
       "\t<dt>TP_ESCOLA</dt>\n",
       "\t\t<dd>0</dd>\n",
       "\t<dt>TP_ENSINO</dt>\n",
       "\t\t<dd>0</dd>\n",
       "\t<dt>CO_ESCOLA</dt>\n",
       "\t\t<dd>0</dd>\n",
       "\t<dt>TP_PRESENCA_CN</dt>\n",
       "\t\t<dd>0</dd>\n",
       "\t<dt>TP_PRESENCA_CH</dt>\n",
       "\t\t<dd>0</dd>\n",
       "\t<dt>TP_PRESENCA_LC</dt>\n",
       "\t\t<dd>0</dd>\n",
       "\t<dt>TP_PRESENCA_MT</dt>\n",
       "\t\t<dd>0</dd>\n",
       "\t<dt>NOTA_CN</dt>\n",
       "\t\t<dd>0</dd>\n",
       "\t<dt>NOTA_CH</dt>\n",
       "\t\t<dd>0</dd>\n",
       "\t<dt>NOTA_LC</dt>\n",
       "\t\t<dd>0</dd>\n",
       "\t<dt>NOTA_MT</dt>\n",
       "\t\t<dd>0</dd>\n",
       "\t<dt>TP_LINGUA</dt>\n",
       "\t\t<dd>0</dd>\n",
       "\t<dt>TP_STATUS_REDACAO</dt>\n",
       "\t\t<dd>0</dd>\n",
       "\t<dt>NOTA_COMP1</dt>\n",
       "\t\t<dd>0</dd>\n",
       "\t<dt>NOTA_COMP2</dt>\n",
       "\t\t<dd>0</dd>\n",
       "\t<dt>NOTA_COMP3</dt>\n",
       "\t\t<dd>0</dd>\n",
       "\t<dt>NOTA_COMP4</dt>\n",
       "\t\t<dd>0</dd>\n",
       "\t<dt>NOTA_COMP5</dt>\n",
       "\t\t<dd>0</dd>\n",
       "\t<dt>NOTA_REDACAO</dt>\n",
       "\t\t<dd>0</dd>\n",
       "</dl>\n"
      ],
      "text/latex": [
       "\\begin{description*}\n",
       "\\item[NU\\textbackslash{}\\_INSCRICAO] 0\n",
       "\\item[NO\\textbackslash{}\\_MUNICIPIO\\textbackslash{}\\_RESIDENCIA] 0\n",
       "\\item[NU\\textbackslash{}\\_IDADE] 0\n",
       "\\item[TP\\textbackslash{}\\_SEXO] 0\n",
       "\\item[TP\\textbackslash{}\\_COR\\textbackslash{}\\_RACA] 0\n",
       "\\item[TP\\textbackslash{}\\_NACIONALIDADE] 0\n",
       "\\item[TP\\textbackslash{}\\_ESCOLA] 0\n",
       "\\item[TP\\textbackslash{}\\_ENSINO] 0\n",
       "\\item[CO\\textbackslash{}\\_ESCOLA] 0\n",
       "\\item[TP\\textbackslash{}\\_PRESENCA\\textbackslash{}\\_CN] 0\n",
       "\\item[TP\\textbackslash{}\\_PRESENCA\\textbackslash{}\\_CH] 0\n",
       "\\item[TP\\textbackslash{}\\_PRESENCA\\textbackslash{}\\_LC] 0\n",
       "\\item[TP\\textbackslash{}\\_PRESENCA\\textbackslash{}\\_MT] 0\n",
       "\\item[NOTA\\textbackslash{}\\_CN] 0\n",
       "\\item[NOTA\\textbackslash{}\\_CH] 0\n",
       "\\item[NOTA\\textbackslash{}\\_LC] 0\n",
       "\\item[NOTA\\textbackslash{}\\_MT] 0\n",
       "\\item[TP\\textbackslash{}\\_LINGUA] 0\n",
       "\\item[TP\\textbackslash{}\\_STATUS\\textbackslash{}\\_REDACAO] 0\n",
       "\\item[NOTA\\textbackslash{}\\_COMP1] 0\n",
       "\\item[NOTA\\textbackslash{}\\_COMP2] 0\n",
       "\\item[NOTA\\textbackslash{}\\_COMP3] 0\n",
       "\\item[NOTA\\textbackslash{}\\_COMP4] 0\n",
       "\\item[NOTA\\textbackslash{}\\_COMP5] 0\n",
       "\\item[NOTA\\textbackslash{}\\_REDACAO] 0\n",
       "\\end{description*}\n"
      ],
      "text/markdown": [
       "NU_INSCRICAO\n",
       ":   0NO_MUNICIPIO_RESIDENCIA\n",
       ":   0NU_IDADE\n",
       ":   0TP_SEXO\n",
       ":   0TP_COR_RACA\n",
       ":   0TP_NACIONALIDADE\n",
       ":   0TP_ESCOLA\n",
       ":   0TP_ENSINO\n",
       ":   0CO_ESCOLA\n",
       ":   0TP_PRESENCA_CN\n",
       ":   0TP_PRESENCA_CH\n",
       ":   0TP_PRESENCA_LC\n",
       ":   0TP_PRESENCA_MT\n",
       ":   0NOTA_CN\n",
       ":   0NOTA_CH\n",
       ":   0NOTA_LC\n",
       ":   0NOTA_MT\n",
       ":   0TP_LINGUA\n",
       ":   0TP_STATUS_REDACAO\n",
       ":   0NOTA_COMP1\n",
       ":   0NOTA_COMP2\n",
       ":   0NOTA_COMP3\n",
       ":   0NOTA_COMP4\n",
       ":   0NOTA_COMP5\n",
       ":   0NOTA_REDACAO\n",
       ":   0\n",
       "\n"
      ],
      "text/plain": [
       "           NU_INSCRICAO NO_MUNICIPIO_RESIDENCIA                NU_IDADE \n",
       "                      0                       0                       0 \n",
       "                TP_SEXO             TP_COR_RACA        TP_NACIONALIDADE \n",
       "                      0                       0                       0 \n",
       "              TP_ESCOLA               TP_ENSINO               CO_ESCOLA \n",
       "                      0                       0                       0 \n",
       "         TP_PRESENCA_CN          TP_PRESENCA_CH          TP_PRESENCA_LC \n",
       "                      0                       0                       0 \n",
       "         TP_PRESENCA_MT                 NOTA_CN                 NOTA_CH \n",
       "                      0                       0                       0 \n",
       "                NOTA_LC                 NOTA_MT               TP_LINGUA \n",
       "                      0                       0                       0 \n",
       "      TP_STATUS_REDACAO              NOTA_COMP1              NOTA_COMP2 \n",
       "                      0                       0                       0 \n",
       "             NOTA_COMP3              NOTA_COMP4              NOTA_COMP5 \n",
       "                      0                       0                       0 \n",
       "           NOTA_REDACAO \n",
       "                      0 "
      ]
     },
     "metadata": {},
     "output_type": "display_data"
    }
   ],
   "source": [
    "# verificar valores missing\n",
    "\n",
    "sapply(colegiox, function(x) sum(is.na(x)))"
   ]
  },
  {
   "cell_type": "markdown",
   "id": "8dc37f4c",
   "metadata": {},
   "source": [
    "# 2.0 Testes Estatísticos"
   ]
  },
  {
   "cell_type": "markdown",
   "id": "5019655e",
   "metadata": {},
   "source": [
    "## 2.2 Teste de Normalidade"
   ]
  },
  {
   "cell_type": "markdown",
   "id": "b971673a",
   "metadata": {},
   "source": [
    "Nível de significância de 5%\n",
    "\n",
    "- Ho = distribuição normal : p > 0.05\n",
    "- Ha = distribuição não normal : p <= 0.05"
   ]
  },
  {
   "cell_type": "markdown",
   "id": "db61d782",
   "metadata": {},
   "source": [
    "#### Ciências Naturais"
   ]
  },
  {
   "cell_type": "code",
   "execution_count": 8,
   "id": "533549d9",
   "metadata": {},
   "outputs": [
    {
     "data": {
      "text/plain": [
       "\n",
       "\tShapiro-Wilk normality test\n",
       "\n",
       "data:  colegiox$NOTA_CN\n",
       "W = 0.98706, p-value = 0.2592\n"
      ]
     },
     "metadata": {},
     "output_type": "display_data"
    }
   ],
   "source": [
    "# shapiro-wilk\n",
    "\n",
    "shapiro.test(colegiox$NOTA_CN)"
   ]
  },
  {
   "cell_type": "code",
   "execution_count": 9,
   "id": "e2e150e2",
   "metadata": {},
   "outputs": [
    {
     "data": {
      "text/plain": [
       "\n",
       "\tAnderson-Darling normality test\n",
       "\n",
       "data:  colegiox$NOTA_CN\n",
       "A = 0.43581, p-value = 0.2943\n"
      ]
     },
     "metadata": {},
     "output_type": "display_data"
    }
   ],
   "source": [
    "# anderson-darling\n",
    "\n",
    "ad.test(colegiox$NOTA_CN)"
   ]
  },
  {
   "cell_type": "code",
   "execution_count": 10,
   "id": "cca0e97d",
   "metadata": {},
   "outputs": [
    {
     "data": {
      "text/plain": [
       "\n",
       "\tLilliefors (Kolmogorov-Smirnov) normality test\n",
       "\n",
       "data:  colegiox$NOTA_CN\n",
       "D = 0.049973, p-value = 0.5918\n"
      ]
     },
     "metadata": {},
     "output_type": "display_data"
    }
   ],
   "source": [
    "# lilliefors / kolmogorov-smirnov\n",
    "\n",
    "lillie.test(colegiox$NOTA_CN)"
   ]
  },
  {
   "cell_type": "code",
   "execution_count": 11,
   "id": "8ed54aa7",
   "metadata": {},
   "outputs": [
    {
     "data": {
      "text/plain": [
       "\n",
       "\tCramer-von Mises normality test\n",
       "\n",
       "data:  colegiox$NOTA_CN\n",
       "W = 0.060407, p-value = 0.3711\n"
      ]
     },
     "metadata": {},
     "output_type": "display_data"
    }
   ],
   "source": [
    "# cramer-von mises\n",
    "\n",
    "cvm.test(colegiox$NOTA_CN)"
   ]
  },
  {
   "cell_type": "code",
   "execution_count": 12,
   "id": "82a78c93",
   "metadata": {},
   "outputs": [
    {
     "data": {
      "image/png": "[encoded data removed]",
      "text/plain": [
       "Plot with title \"Histogram of colegiox$NOTA_CN\""
      ]
     },
     "metadata": {},
     "output_type": "display_data"
    }
   ],
   "source": [
    "# histograma\n",
    "\n",
    "hist(colegiox$NOTA_CN, probability=T, col=\"purple\")\n",
    "lines(density(colegiox$NOTA_CN), col=\"green\")"
   ]
  },
  {
   "cell_type": "code",
   "execution_count": 13,
   "id": "36cd222c",
   "metadata": {},
   "outputs": [
    {
     "data": {
      "image/png": "[encoded data removed]",
      "text/plain": [
       "Plot with title \"Normal Q-Q Plot\""
      ]
     },
     "metadata": {},
     "output_type": "display_data"
    }
   ],
   "source": [
    "# QQplot\n",
    "\n",
    "qqnorm(colegiox$NOTA_CN)\n",
    "qqline(colegiox$NOTA_CN)"
   ]
  },
  {
   "cell_type": "markdown",
   "id": "025bbeb5",
   "metadata": {},
   "source": [
    "## 2.3 Teste Z"
   ]
  },
  {
   "cell_type": "markdown",
   "id": "d1841fa7",
   "metadata": {},
   "source": [
    "- Ho = média é igual a de São Paulo : p > 0.05\n",
    "- Ha = média é diferente da de São Paulo : p <= 0.05"
   ]
  },
  {
   "cell_type": "code",
   "execution_count": 14,
   "id": "1eec2454",
   "metadata": {},
   "outputs": [
    {
     "data": {
      "text/plain": [
       "   Min. 1st Qu.  Median    Mean 3rd Qu.    Max. \n",
       "    0.0   432.8   491.0   494.5   551.6   860.9 "
      ]
     },
     "metadata": {},
     "output_type": "display_data"
    }
   ],
   "source": [
    "# média do estado de são paulo\n",
    "\n",
    "summary(enem2019_tratado$NOTA_CN)"
   ]
  },
  {
   "cell_type": "code",
   "execution_count": 21,
   "id": "e1737419",
   "metadata": {},
   "outputs": [
    {
     "data": {
      "text/html": [
       "494.480730111551"
      ],
      "text/latex": [
       "494.480730111551"
      ],
      "text/markdown": [
       "494.480730111551"
      ],
      "text/plain": [
       "[1] 494.4807"
      ]
     },
     "metadata": {},
     "output_type": "display_data"
    }
   ],
   "source": [
    "media  <-  mean(enem2019_tratado$NOTA_CN)\n",
    "\n",
    "media"
   ]
  },
  {
   "cell_type": "code",
   "execution_count": 22,
   "id": "dbb37b4f",
   "metadata": {},
   "outputs": [
    {
     "data": {
      "text/html": [
       "78.6227640959741"
      ],
      "text/latex": [
       "78.6227640959741"
      ],
      "text/markdown": [
       "78.6227640959741"
      ],
      "text/plain": [
       "[1] 78.62276"
      ]
     },
     "metadata": {},
     "output_type": "display_data"
    }
   ],
   "source": [
    "# desvio padrão de são paulo\n",
    "\n",
    "desvio <- sd(enem2019_tratado$NOTA_CN)\n",
    "\n",
    "desvio"
   ]
  },
  {
   "cell_type": "markdown",
   "id": "86ad3b3a",
   "metadata": {},
   "source": [
    "Como é uma comparação de igualdade, o teste é bicaudal."
   ]
  },
  {
   "cell_type": "code",
   "execution_count": 20,
   "id": "75ef2682",
   "metadata": {},
   "outputs": [
    {
     "data": {
      "text/plain": [
       "\n",
       "\tOne-sample z-Test\n",
       "\n",
       "data:  colegiox$NOTA_CN\n",
       "z = 16.486, p-value < 2.2e-16\n",
       "alternative hypothesis: true mean is not equal to 494.4807\n",
       "95 percent confidence interval:\n",
       " 594.6486 621.6791\n",
       "sample estimates:\n",
       "mean of x \n",
       " 608.1638 \n"
      ]
     },
     "metadata": {},
     "output_type": "display_data"
    }
   ],
   "source": [
    "z.test(colegiox$NOTA_CN, mu=media, sigma.x = desvio, alternative=\"two.sided\")"
   ]
  },
  {
   "cell_type": "markdown",
   "id": "ee008d55",
   "metadata": {},
   "source": [
    "### Conclusão\n",
    "\n",
    "A um nível de confiança de 95%, as evidências indicam que a média do colégio X é diferente da média do estado de São Paulo."
   ]
  },
  {
   "cell_type": "code",
   "execution_count": null,
   "id": "ebd00e90",
   "metadata": {},
   "outputs": [],
   "source": []
  },
  {
   "cell_type": "code",
   "execution_count": null,
   "id": "560f4475",
   "metadata": {},
   "outputs": [],
   "source": []
  },
  {
   "cell_type": "code",
   "execution_count": null,
   "id": "da1292c6",
   "metadata": {},
   "outputs": [],
   "source": []
  },
  {
   "cell_type": "code",
   "execution_count": null,
   "id": "6e0f0b27",
   "metadata": {},
   "outputs": [],
   "source": []
  },
  {
   "cell_type": "code",
   "execution_count": null,
   "id": "2a94d8ad",
   "metadata": {},
   "outputs": [],
   "source": []
  },
  {
   "cell_type": "code",
   "execution_count": null,
   "id": "983dab92",
   "metadata": {},
   "outputs": [],
   "source": []
  },
  {
   "cell_type": "code",
   "execution_count": null,
   "id": "f5fd1759",
   "metadata": {},
   "outputs": [],
   "source": []
  },
  {
   "cell_type": "code",
   "execution_count": null,
   "id": "e2e26715",
   "metadata": {},
   "outputs": [],
   "source": []
  },
  {
   "cell_type": "code",
   "execution_count": null,
   "id": "4670e8e1",
   "metadata": {},
   "outputs": [],
   "source": []
  }
 ],
 "metadata": {
  "kernelspec": {
   "display_name": "R",
   "language": "R",
   "name": "ir"
  },
  "language_info": {
   "codemirror_mode": "r",
   "file_extension": ".r",
   "mimetype": "text/x-r-source",
   "name": "R",
   "pygments_lexer": "r",
   "version": "3.6.1"
  }
 },
 "nbformat": 4,
 "nbformat_minor": 5
}
